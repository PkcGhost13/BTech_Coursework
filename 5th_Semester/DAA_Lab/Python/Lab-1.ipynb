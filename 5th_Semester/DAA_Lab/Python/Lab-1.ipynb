{
 "cells": [
  {
   "cell_type": "markdown",
   "metadata": {},
   "source": [
    "### Q1. Write a program to store random numbers into an array of n integers and then find out the smallest and largest number stored in it. n is the user input."
   ]
  },
  {
   "cell_type": "code",
   "execution_count": null,
   "metadata": {},
   "outputs": [],
   "source": [
    "import array as arr\n",
    "from random import seed\n",
    "from random import randint\n",
    "def bubbleSort (arr):\n",
    "    n=len(arr)\n",
    "    for i in range (n-1):\n",
    "        for j in range (n-i-1):\n",
    "            if arr[j]>arr[j+1]:\n",
    "                temp=arr[j]\n",
    "                arr[j]=arr[j+1]\n",
    "                arr[j+1]=temp\n",
    "\n",
    "n = int(input(\"Enter the value of n : \"))\n",
    "arr = []\n",
    "for i in range (n-1) :\n",
    "    arr.append(randint(0,n*2));\n",
    "print(\"The array before change is : \")\n",
    "print(arr)\n",
    "bubbleSort(arr)\n",
    "print(\"The array after change is : \")\n",
    "print(arr)"
   ]
  },
  {
   "cell_type": "code",
   "execution_count": null,
   "metadata": {},
   "outputs": [],
   "source": []
  }
 ],
 "metadata": {
  "kernelspec": {
   "display_name": "Python 3 (ipykernel)",
   "language": "python",
   "name": "python3"
  },
  "language_info": {
   "codemirror_mode": {
    "name": "ipython",
    "version": 3
   },
   "file_extension": ".py",
   "mimetype": "text/x-python",
   "name": "python",
   "nbconvert_exporter": "python",
   "pygments_lexer": "ipython3",
   "version": "3.9.12"
  },
  "vscode": {
   "interpreter": {
    "hash": "916dbcbb3f70747c44a77c7bcd40155683ae19c65e1c03b4aa3499c5328201f1"
   }
  }
 },
 "nbformat": 4,
 "nbformat_minor": 2
}
