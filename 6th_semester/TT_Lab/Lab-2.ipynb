{
 "cells": [
  {
   "cell_type": "markdown",
   "id": "e1ce3f6a",
   "metadata": {},
   "source": [
    "# Lab-2"
   ]
  },
  {
   "cell_type": "markdown",
   "id": "10a8180c",
   "metadata": {},
   "source": [
    "## Practice :"
   ]
  },
  {
   "cell_type": "markdown",
   "id": "0c1d7d6a",
   "metadata": {},
   "source": [
    "1. Write a python program to get largest number from list\n",
    "2. To a create a new dictionary by concatenating two dictionaries \n",
    "3. Find repeated item of a tuple\n",
    "4. Write a program to accept a word/sentence from the user and apply and encode it.\n",
    "   encode ascii value of charcter *10 +2 resultant character\n"
   ]
  },
  {
   "cell_type": "code",
   "execution_count": 17,
   "id": "43ea8e04",
   "metadata": {},
   "outputs": [
    {
     "name": "stdout",
     "output_type": "stream",
     "text": [
      "Enter the number of elements in list : 10\n",
      "8\n",
      "5\n",
      "6\n",
      "9\n",
      "4\n",
      "21\n",
      "1\n",
      "3\n",
      "6\n",
      "7\n",
      "The max element in ths list is :  21\n"
     ]
    }
   ],
   "source": [
    "n=int(input(\"Enter the number of elements in list : \"))\n",
    "num=list()\n",
    "for i in range(n):\n",
    "    num.append(int(input()))\n",
    "print(\"The max element in ths list is : \",max(num))"
   ]
  },
  {
   "cell_type": "code",
   "execution_count": 34,
   "id": "d0adb850",
   "metadata": {},
   "outputs": [
    {
     "name": "stdout",
     "output_type": "stream",
     "text": [
      "{'d': 6, 'c': 4, 'a': 10, 'b': 8}\n"
     ]
    }
   ],
   "source": [
    "dict1 = {'a': 10, 'b': 8}\n",
    "dict2 = {'d': 6, 'c': 4}\n",
    "dict3={**dict2,**dict1}\n",
    "print(dict3)"
   ]
  },
  {
   "cell_type": "code",
   "execution_count": 10,
   "id": "9b99887a",
   "metadata": {},
   "outputs": [
    {
     "name": "stdout",
     "output_type": "stream",
     "text": [
      "(1, 2, 3, 5, 3, 2, 5, 1, 5, 3)\n",
      "The repeated elements of the tuple are : \n",
      "1\n",
      "2\n",
      "3\n",
      "5\n"
     ]
    }
   ],
   "source": [
    "from collections import Counter\n",
    "tupl=(1,2,3,5,3,2,5,1,5,3)\n",
    "print(tupl)\n",
    "print(\"The repeated elements of the tuple are : \")\n",
    "for k, v in Counter(tupl).items():\n",
    "    if v > 1:\n",
    "        print(k)"
   ]
  },
  {
   "cell_type": "code",
   "execution_count": 51,
   "id": "c7c329c2",
   "metadata": {},
   "outputs": [
    {
     "name": "stdout",
     "output_type": "stream",
     "text": [
      "Enter the string : Pawan\n",
      "Wkwkk\n"
     ]
    }
   ],
   "source": [
    "s=input(\"Enter the string : \")\n",
    "st=str()\n",
    "for i in s:\n",
    "    n=ord(i)\n",
    "    k=(n*10)+2\n",
    "    if n>=65:\n",
    "        num=(k%26)+65\n",
    "    if n>=97:\n",
    "        num=(k%26)+97\n",
    "    st=st+chr(num)\n",
    "print(st)"
   ]
  },
  {
   "cell_type": "code",
   "execution_count": 5,
   "id": "8e894646",
   "metadata": {},
   "outputs": [
    {
     "name": "stdout",
     "output_type": "stream",
     "text": [
      "Enter Lower bound:- 10\n",
      "Enter Upper bound:- 20\n",
      "\n",
      "\tYou've only  3  chances to guess the integer!\n",
      "\n",
      "Guess a number:- 11\n",
      "You guessed too Small!\n",
      "Guess a number:- 15\n",
      "You guessed too Small!\n",
      "Guess a number:- 19\n",
      "Congratulations you did it in  3  try\n"
     ]
    }
   ],
   "source": [
    "import random\n",
    "import math\n",
    "lower = int(input(\"Enter Lower bound:- \"))\n",
    "upper = int(input(\"Enter Upper bound:- \"))\n",
    "x = random.randint(lower, upper)\n",
    "tries=math.log(upper - lower + 1, 2)\n",
    "print(\"\\n\\tYou've only \",round(tries),\" chances to guess the integer!\\n\")\n",
    "count = 0\n",
    "while count < tries:\n",
    "    count += 1\n",
    "    guess = int(input(\"Guess a number:- \"))\n",
    "    if x == guess:\n",
    "        print(\"Congratulations you did it in \",\n",
    "        count, \" try\")\n",
    "        break\n",
    "    elif x > guess:\n",
    "        print(\"You guessed too Small!\")\n",
    "    elif x < guess:\n",
    "        print(\"You Guessed too High!\")\n",
    "if count >= tries:\n",
    "    print(\"The number is %d\" % x)\n",
    "    print(\"Better Luck Next time!\")"
   ]
  },
  {
   "cell_type": "code",
   "execution_count": 6,
   "id": "84a9581f",
   "metadata": {},
   "outputs": [
    {
     "name": "stdout",
     "output_type": "stream",
     "text": [
      "Vl)3Ty4@Ly{7\n"
     ]
    }
   ],
   "source": [
    "import random\n",
    "import string\n",
    "def Generator():\n",
    "    password = '' \n",
    "    li=[]\n",
    "    for x in range(3):\n",
    "        li=[random.choice(string.ascii_uppercase),\n",
    "                  random.choice(string.ascii_lowercase),\n",
    "                  random.choice(string.digits),\n",
    "                  random.choice(string.punctuation)]\n",
    "        for y in range(4):\n",
    "            rand=random.choice(li)\n",
    "            password=password+rand\n",
    "            li.remove(rand)\n",
    "    print(password)\n",
    "Generator()"
   ]
  },
  {
   "cell_type": "code",
   "execution_count": null,
   "id": "41eea18d",
   "metadata": {},
   "outputs": [],
   "source": []
  }
 ],
 "metadata": {
  "kernelspec": {
   "display_name": "Python 3 (ipykernel)",
   "language": "python",
   "name": "python3"
  },
  "language_info": {
   "codemirror_mode": {
    "name": "ipython",
    "version": 3
   },
   "file_extension": ".py",
   "mimetype": "text/x-python",
   "name": "python",
   "nbconvert_exporter": "python",
   "pygments_lexer": "ipython3",
   "version": "3.9.16"
  }
 },
 "nbformat": 4,
 "nbformat_minor": 5
}
