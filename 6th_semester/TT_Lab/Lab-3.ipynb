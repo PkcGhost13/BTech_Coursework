{
 "cells": [
  {
   "cell_type": "markdown",
   "id": "39ee2d91",
   "metadata": {},
   "source": [
    "# Lab-3"
   ]
  },
  {
   "cell_type": "markdown",
   "id": "65e934b5",
   "metadata": {},
   "source": [
    "## 1. Write a numpy program to get the numpy version and show numpy build configuration"
   ]
  },
  {
   "cell_type": "code",
   "execution_count": 1,
   "id": "8b4ed61d",
   "metadata": {},
   "outputs": [
    {
     "name": "stdout",
     "output_type": "stream",
     "text": [
      "Version :  1.21.5\n",
      "Build Configuration : \n",
      "blas_mkl_info:\n",
      "    libraries = ['mkl_rt']\n",
      "    library_dirs = ['C:/Users/pawan/anaconda3\\\\Library\\\\lib']\n",
      "    define_macros = [('SCIPY_MKL_H', None), ('HAVE_CBLAS', None)]\n",
      "    include_dirs = ['C:/Users/pawan/anaconda3\\\\Library\\\\include']\n",
      "blas_opt_info:\n",
      "    libraries = ['mkl_rt']\n",
      "    library_dirs = ['C:/Users/pawan/anaconda3\\\\Library\\\\lib']\n",
      "    define_macros = [('SCIPY_MKL_H', None), ('HAVE_CBLAS', None)]\n",
      "    include_dirs = ['C:/Users/pawan/anaconda3\\\\Library\\\\include']\n",
      "lapack_mkl_info:\n",
      "    libraries = ['mkl_rt']\n",
      "    library_dirs = ['C:/Users/pawan/anaconda3\\\\Library\\\\lib']\n",
      "    define_macros = [('SCIPY_MKL_H', None), ('HAVE_CBLAS', None)]\n",
      "    include_dirs = ['C:/Users/pawan/anaconda3\\\\Library\\\\include']\n",
      "lapack_opt_info:\n",
      "    libraries = ['mkl_rt']\n",
      "    library_dirs = ['C:/Users/pawan/anaconda3\\\\Library\\\\lib']\n",
      "    define_macros = [('SCIPY_MKL_H', None), ('HAVE_CBLAS', None)]\n",
      "    include_dirs = ['C:/Users/pawan/anaconda3\\\\Library\\\\include']\n",
      "Supported SIMD extensions in this NumPy install:\n",
      "    baseline = SSE,SSE2,SSE3\n",
      "    found = SSSE3,SSE41,POPCNT,SSE42,AVX,F16C,FMA3,AVX2,AVX512F,AVX512CD,AVX512_SKX,AVX512_CLX,AVX512_CNL\n",
      "    not found = \n"
     ]
    }
   ],
   "source": [
    "import numpy\n",
    "print(\"Version : \",numpy.__version__)\n",
    "print(\"Build Configuration : \")\n",
    "numpy.show_config()"
   ]
  },
  {
   "cell_type": "markdown",
   "id": "08682cb7",
   "metadata": {},
   "source": [
    "## 2. Write a NumPy Program to test whether any of the elements of a given array is non zero"
   ]
  },
  {
   "cell_type": "code",
   "execution_count": 15,
   "id": "793b80f7",
   "metadata": {},
   "outputs": [
    {
     "name": "stdout",
     "output_type": "stream",
     "text": [
      "[0 1 2 3 0 0 0 0 0 0]\n",
      "The Non-zero elements are : \n",
      "[1 2 3]\n"
     ]
    }
   ],
   "source": [
    "import numpy as np\n",
    "arr=np.array([0,1,2,3,0,0,0,0,0,0])\n",
    "print(arr)\n",
    "print(\"The Non-zero elements are : \")\n",
    "print(arr[numpy.nonzero(arr)])"
   ]
  },
  {
   "cell_type": "markdown",
   "id": "1074aa3e",
   "metadata": {},
   "source": [
    "## 3. Write a NumPy program to test element-wise for complex number, real number of a given array. Also test whether a given number is a scalar type or not "
   ]
  },
  {
   "cell_type": "code",
   "execution_count": 22,
   "id": "dbe09724",
   "metadata": {},
   "outputs": [
    {
     "name": "stdout",
     "output_type": "stream",
     "text": [
      "Original array:  [1. +1.j 1. +0.j 4.5+0.j 3. +0.j 2. +0.j 0. +2.j]\n",
      "The complex numbers are :  [ True False False False False  True]\n",
      "The real numbers are :  [False  True  True  True  True False]\n",
      "Scalar numbers :  False\n"
     ]
    }
   ],
   "source": [
    "import numpy as np\n",
    "a = np.array([1+1j, 1+0j, 4.5, 3, 2, 2j])\n",
    "print(\"Original array: \",a)\n",
    "print(\"The complex numbers are : \",np.iscomplex(a))\n",
    "print(\"The real numbers are : \",np.isreal(a))\n",
    "print(\"Scalar numbers : \",np.isscalar(a))"
   ]
  },
  {
   "cell_type": "markdown",
   "id": "4fe905a1",
   "metadata": {},
   "source": [
    "## 4. Write a NumPy program to generate an array of 15 random numbers from a standard normal distribution"
   ]
  },
  {
   "cell_type": "code",
   "execution_count": 2,
   "id": "ad903768",
   "metadata": {},
   "outputs": [
    {
     "name": "stdout",
     "output_type": "stream",
     "text": [
      "[-0.38449084 -0.05493805  1.47244126  0.34378406  0.53638604  0.40500352\n",
      " -0.93501922  0.67550448 -0.6881544  -0.13125439  0.86087192 -0.27446063\n",
      "  0.47586038 -1.21570153 -0.05353601]\n"
     ]
    }
   ],
   "source": [
    "import numpy as np\n",
    "arr=np.random.normal(0,1,15)\n",
    "print(arr)"
   ]
  },
  {
   "cell_type": "markdown",
   "id": "b13c9614",
   "metadata": {},
   "source": [
    "## 5. Write a NumPy program to create a 3*3 identity matrix, i.e. diagonal elements are 1 and the rest are 0"
   ]
  },
  {
   "cell_type": "code",
   "execution_count": 25,
   "id": "6a43bb18",
   "metadata": {},
   "outputs": [
    {
     "name": "stdout",
     "output_type": "stream",
     "text": [
      "[[1. 0. 0.]\n",
      " [0. 1. 0.]\n",
      " [0. 0. 1.]]\n"
     ]
    }
   ],
   "source": [
    "import numpy as np\n",
    "arr=np.identity(3)\n",
    "print(arr)"
   ]
  },
  {
   "cell_type": "markdown",
   "id": "4c831ea9",
   "metadata": {},
   "source": [
    "## 6. Write a NumPy program to create 5*5 zero matrix with elements on the main diagonal 1,2,3,4,5"
   ]
  },
  {
   "cell_type": "code",
   "execution_count": 27,
   "id": "a96f2285",
   "metadata": {},
   "outputs": [
    {
     "name": "stdout",
     "output_type": "stream",
     "text": [
      "[[1 0 0 0 0]\n",
      " [0 2 0 0 0]\n",
      " [0 0 3 0 0]\n",
      " [0 0 0 4 0]\n",
      " [0 0 0 0 5]]\n"
     ]
    }
   ],
   "source": [
    "import numpy as np\n",
    "arr=np.diag([1,2,3,4,5])\n",
    "print(arr)"
   ]
  },
  {
   "cell_type": "markdown",
   "id": "30cf4127",
   "metadata": {},
   "source": [
    "## 7. Extract all numbers greater than and lesser than a specified number in a list"
   ]
  },
  {
   "cell_type": "code",
   "execution_count": 32,
   "id": "4ff2c164",
   "metadata": {},
   "outputs": [
    {
     "name": "stdout",
     "output_type": "stream",
     "text": [
      "[0 1 2 3 0 0 0 0 0 0]\n",
      "Numbers greater than n \n",
      "[False False False  True False False False False False False]\n",
      "Numbers lesser than n \n",
      "[ True  True False False  True  True  True  True  True  True]\n"
     ]
    }
   ],
   "source": [
    "import numpy as np\n",
    "arr=np.array([0,1,2,3,0,0,0,0,0,0])\n",
    "print(arr)\n",
    "n=2\n",
    "print(\"Numbers greater than n \")\n",
    "print(arr>n)\n",
    "print(\"Numbers lesser than n \")\n",
    "print(arr<n)\n"
   ]
  },
  {
   "cell_type": "markdown",
   "id": "df2d32a6",
   "metadata": {},
   "source": [
    "## 8. Create a 4*4 array, now create a new array from the said array swapping first and last, second and third columns"
   ]
  },
  {
   "cell_type": "code",
   "execution_count": 37,
   "id": "604d21a5",
   "metadata": {},
   "outputs": [
    {
     "name": "stdout",
     "output_type": "stream",
     "text": [
      "Original array:\n",
      "[[ 0  1  2  3]\n",
      " [ 4  5  6  7]\n",
      " [ 8  9 10 11]\n",
      " [12 13 14 15]]\n",
      "After Swapping :\n",
      "[[ 3  2  1  0]\n",
      " [ 7  6  5  4]\n",
      " [11 10  9  8]\n",
      " [15 14 13 12]]\n"
     ]
    }
   ],
   "source": [
    "import numpy as np \n",
    "nums = np.arange(16, dtype='int').reshape(4, 4)\n",
    "print(\"Original array:\")\n",
    "print(nums)\n",
    "print(\"After Swapping :\")\n",
    "new_nums = nums[:, ::-1]\n",
    "print(new_nums)"
   ]
  }
 ],
 "metadata": {
  "kernelspec": {
   "display_name": "Python 3 (ipykernel)",
   "language": "python",
   "name": "python3"
  },
  "language_info": {
   "codemirror_mode": {
    "name": "ipython",
    "version": 3
   },
   "file_extension": ".py",
   "mimetype": "text/x-python",
   "name": "python",
   "nbconvert_exporter": "python",
   "pygments_lexer": "ipython3",
   "version": "3.9.16"
  }
 },
 "nbformat": 4,
 "nbformat_minor": 5
}
