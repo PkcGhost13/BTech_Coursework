{
 "cells": [
  {
   "cell_type": "markdown",
   "id": "d5ad768b",
   "metadata": {},
   "source": [
    "# Lab 1 :"
   ]
  },
  {
   "cell_type": "markdown",
   "id": "ad5b5e71",
   "metadata": {},
   "source": [
    "## Questions :\n",
    "1. input distance in km and convert to miles.\n",
    "2. check year is leap year or not.\n",
    "3. convert number to binary octal and hexadecimal.\n",
    "4. check armstrong number.\n",
    "5. solve a quadratic equation.\n",
    "6. write a python program to take student details (name roll email) and display it.\n",
    "7. take 4*4 matrix input display matrix and show column elements\n",
    "8. find duplicate characters in string"
   ]
  },
  {
   "cell_type": "code",
   "execution_count": 2,
   "id": "12f34c36",
   "metadata": {},
   "outputs": [
    {
     "name": "stdout",
     "output_type": "stream",
     "text": [
      "Enter the distance in kilometres : 10\n",
      "Distance in miles is :  6.21371  miles\n"
     ]
    }
   ],
   "source": [
    "km = float(input(\"Enter the distance in kilometres : \"))\n",
    "print(\"Distance in miles is : \",0.621371 * km,\" miles\")"
   ]
  },
  {
   "cell_type": "code",
   "execution_count": 4,
   "id": "0b3b0980",
   "metadata": {},
   "outputs": [
    {
     "name": "stdout",
     "output_type": "stream",
     "text": [
      "Enter the year : 2012\n",
      "Leap year\n"
     ]
    }
   ],
   "source": [
    "year = int(input(\"Enter the year : \"))\n",
    "if (year % 400 == 0) and (year % 100 == 0) or (year % 4 ==0) and (year % 100 != 0):\n",
    "    print(\"Leap year\")\n",
    "else:\n",
    "    print(\"Not a leap year\")"
   ]
  },
  {
   "cell_type": "code",
   "execution_count": 9,
   "id": "220a3d53",
   "metadata": {},
   "outputs": [
    {
     "name": "stdout",
     "output_type": "stream",
     "text": [
      "Enter the number in decimal : 10\n",
      "Binary :  0b1010 \n",
      "Octal :  0o12 \n",
      "Hexadecimal :  0xa\n"
     ]
    }
   ],
   "source": [
    "n = int(input(\"Enter the number in decimal : \"))\n",
    "print(\"Binary : \",bin(n),\"\\nOctal : \",oct(n),\"\\nHexadecimal : \",hex(n))"
   ]
  },
  {
   "cell_type": "code",
   "execution_count": 18,
   "id": "5fc6c8d2",
   "metadata": {},
   "outputs": [
    {
     "name": "stdout",
     "output_type": "stream",
     "text": [
      "Enter a number: 5\n",
      "5 is an Armstrong number\n"
     ]
    }
   ],
   "source": [
    "num = int(input(\"Enter a number: \"))\n",
    "sum,temp,s = 0,num,str(num)\n",
    "k=len(s)\n",
    "while temp > 0:\n",
    "   digit = temp % 10\n",
    "   sum += digit ** k\n",
    "   temp //= 10\n",
    "\n",
    "if num == sum:\n",
    "   print(num,\"is an Armstrong number\")\n",
    "else:\n",
    "   print(num,\"is not an Armstrong number\")"
   ]
  },
  {
   "cell_type": "code",
   "execution_count": 11,
   "id": "65a8ce19",
   "metadata": {},
   "outputs": [
    {
     "name": "stdout",
     "output_type": "stream",
     "text": [
      "Enter coefficient of x^2 : 1\n",
      "Enter coefficient of x : -7\n",
      "Enter the value of c : 10\n",
      "The solution are 2.0 and 5.0\n"
     ]
    }
   ],
   "source": [
    "import cmath\n",
    "a = int(input(\"Enter coefficient of x^2 : \"))\n",
    "b = int(input(\"Enter coefficient of x : \"))\n",
    "c = int(input(\"Enter the value of c : \"))\n",
    "d = (b**2) - (4*a*c)\n",
    "sol1 = (-b-math.sqrt(d))/(2*a)\n",
    "sol2 = (-b+math.sqrt(d))/(2*a)\n",
    "print('The solution are {0} and {1}'.format(sol1,sol2))"
   ]
  },
  {
   "cell_type": "code",
   "execution_count": 20,
   "id": "752f5f92",
   "metadata": {},
   "outputs": [
    {
     "name": "stdout",
     "output_type": "stream",
     "text": [
      "Enter the number of students : 1\n",
      "Enter the name of the student : pawan\n",
      "Enter the roll of the student : 2005\n",
      "Enter the email of the student : 77\n",
      "Student List : \n",
      "Student  1  :  pawan   2005   77\n"
     ]
    }
   ],
   "source": [
    "n = int(input(\"Enter the number of students : \"))\n",
    "names,rolls,emails=list(),list(),list()\n",
    "for i in range(n):\n",
    "    names.append(input (\"Enter the name of the student : \"))\n",
    "    rolls.append(input (\"Enter the roll of the student : \"))\n",
    "    emails.append(input(\"Enter the email of the student : \"))\n",
    "print(\"Student List : \")\n",
    "for i in range(len(names)):\n",
    "    print(\"Student \",i+1,\" : \",names[i],\" \",rolls[i],\" \",emails[i])"
   ]
  },
  {
   "cell_type": "code",
   "execution_count": 13,
   "id": "dfb0047b",
   "metadata": {},
   "outputs": [
    {
     "name": "stdout",
     "output_type": "stream",
     "text": [
      "Enter the number of rows:4\n",
      "Enter the number of columns:4\n",
      "Enter the entries rowwise:\n",
      "1\n",
      "2\n",
      "3\n",
      "4\n",
      "5\n",
      "6\n",
      "7\n",
      "8\n",
      "9\n",
      "8\n",
      "7\n",
      "6\n",
      "5\n",
      "4\n",
      "3\n",
      "2\n",
      "Row-wise : \n",
      "1 2 3 4 \n",
      "5 6 7 8 \n",
      "9 8 7 6 \n",
      "5 4 3 2 \n",
      "Column-wise : \n",
      "1 5 9 5 \n",
      "2 6 8 4 \n",
      "3 7 7 3 \n",
      "4 8 6 2 \n"
     ]
    }
   ],
   "source": [
    "R = int(input(\"Enter the number of rows:\"))\n",
    "C = int(input(\"Enter the number of columns:\"))\n",
    "\n",
    " \n",
    "matrix = []\n",
    "print(\"Enter the entries rowwise:\")\n",
    "\n",
    "for i in range(R):           \n",
    "    a = []\n",
    "    for j in range(C):       \n",
    "        a.append(int(input()))\n",
    "    matrix.append(a)\n",
    "\n",
    "print(\"Row-wise : \") \n",
    "\n",
    "for i in range(R):\n",
    "    for j in range(C):\n",
    "        print(matrix[i][j], end=\" \")\n",
    "    print()\n",
    "\n",
    "print(\"Column-wise : \") \n",
    "\n",
    "for i in range(C):\n",
    "    for j in range(R):\n",
    "        print(matrix[j][i], end=\" \")\n",
    "    print()"
   ]
  },
  {
   "cell_type": "code",
   "execution_count": 21,
   "id": "35e4bfe2",
   "metadata": {},
   "outputs": [
    {
     "name": "stdout",
     "output_type": "stream",
     "text": [
      "Enter the string : hello how are you\n",
      "h o l e\n",
      "Repeated characters :  True\n"
     ]
    }
   ],
   "source": [
    "def repeatedCharCheck(s):\n",
    "    s = s.replace(\" \",\"\")\n",
    "    x = filter(lambda x: s.count(x) >= 2, s)\n",
    "    print(' '.join(set(x)))\n",
    "    return len(set(s))!=len(s)\n",
    "\n",
    "if __name__==\"__main__\":\n",
    "    s = input(\"Enter the string : \")\n",
    "    print(\"Repeated characters : \",repeatedCharCheck(s))"
   ]
  },
  {
   "cell_type": "markdown",
   "id": "70dcac08",
   "metadata": {},
   "source": []
  }
 ],
 "metadata": {
  "kernelspec": {
   "display_name": "Python 3 (ipykernel)",
   "language": "python",
   "name": "python3"
  },
  "language_info": {
   "codemirror_mode": {
    "name": "ipython",
    "version": 3
   },
   "file_extension": ".py",
   "mimetype": "text/x-python",
   "name": "python",
   "nbconvert_exporter": "python",
   "pygments_lexer": "ipython3",
   "version": "3.9.16"
  }
 },
 "nbformat": 4,
 "nbformat_minor": 5
}
