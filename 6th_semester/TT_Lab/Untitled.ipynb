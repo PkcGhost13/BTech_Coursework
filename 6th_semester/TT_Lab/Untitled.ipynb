{
 "cells": [
  {
   "cell_type": "markdown",
   "id": "ddb8c6fc",
   "metadata": {},
   "source": [
    "You have been provided with a CSV file containing information on the sales of a retail store over a period of 12 months. The data contains the following columns:\n",
    "Date: Date of the sale\n",
    "Product: Type of product sold\n",
    "Price: Price of the product\n",
    "Units sold: Number of units sold\n",
    "Total sales: Total sales made on that date\n",
    "\n",
    "1. Compute the total sales made for each month and plot it using a line graph.\n",
    " \n",
    "2. Compute the total sales made for each product and plot it using a bar graph.\n",
    " \n",
    "3. Compute the average price of each product and plot it using a bar graph.\n",
    " \n",
    "4. Compute the total units sold for each product and plot it using a bar graph.\n",
    " \n",
    "5. Compute the correlation between the price and the total sales of each product.\n",
    " \n",
    "6. Compute the correlation between the units sold and the total sales of each product.\n",
    " \n",
    "7. Compute the total sales made for each month and find the month with the highest sales. Then, compute the product that contributed the most to the sales in that month.\n"
   ]
  },
  {
   "cell_type": "code",
   "execution_count": 7,
   "id": "7cdf49b6",
   "metadata": {},
   "outputs": [
    {
     "data": {
      "text/html": [
       "<div>\n",
       "<style scoped>\n",
       "    .dataframe tbody tr th:only-of-type {\n",
       "        vertical-align: middle;\n",
       "    }\n",
       "\n",
       "    .dataframe tbody tr th {\n",
       "        vertical-align: top;\n",
       "    }\n",
       "\n",
       "    .dataframe thead th {\n",
       "        text-align: right;\n",
       "    }\n",
       "</style>\n",
       "<table border=\"1\" class=\"dataframe\">\n",
       "  <thead>\n",
       "    <tr style=\"text-align: right;\">\n",
       "      <th></th>\n",
       "      <th>Date</th>\n",
       "      <th>Product</th>\n",
       "      <th>Price</th>\n",
       "      <th>Units sold</th>\n",
       "      <th>Total sales:</th>\n",
       "    </tr>\n",
       "  </thead>\n",
       "  <tbody>\n",
       "    <tr>\n",
       "      <th>0</th>\n",
       "      <td>2</td>\n",
       "      <td>tech</td>\n",
       "      <td>884</td>\n",
       "      <td>4</td>\n",
       "      <td>3536</td>\n",
       "    </tr>\n",
       "    <tr>\n",
       "      <th>1</th>\n",
       "      <td>2</td>\n",
       "      <td>tech</td>\n",
       "      <td>207</td>\n",
       "      <td>6</td>\n",
       "      <td>1242</td>\n",
       "    </tr>\n",
       "    <tr>\n",
       "      <th>2</th>\n",
       "      <td>2</td>\n",
       "      <td>tech</td>\n",
       "      <td>750</td>\n",
       "      <td>9</td>\n",
       "      <td>6750</td>\n",
       "    </tr>\n",
       "    <tr>\n",
       "      <th>3</th>\n",
       "      <td>2</td>\n",
       "      <td>tech</td>\n",
       "      <td>313</td>\n",
       "      <td>3</td>\n",
       "      <td>939</td>\n",
       "    </tr>\n",
       "    <tr>\n",
       "      <th>4</th>\n",
       "      <td>3</td>\n",
       "      <td>tech</td>\n",
       "      <td>247</td>\n",
       "      <td>2</td>\n",
       "      <td>494</td>\n",
       "    </tr>\n",
       "    <tr>\n",
       "      <th>...</th>\n",
       "      <td>...</td>\n",
       "      <td>...</td>\n",
       "      <td>...</td>\n",
       "      <td>...</td>\n",
       "      <td>...</td>\n",
       "    </tr>\n",
       "    <tr>\n",
       "      <th>161</th>\n",
       "      <td>3</td>\n",
       "      <td>garments</td>\n",
       "      <td>958</td>\n",
       "      <td>2</td>\n",
       "      <td>1916</td>\n",
       "    </tr>\n",
       "    <tr>\n",
       "      <th>162</th>\n",
       "      <td>3</td>\n",
       "      <td>garments</td>\n",
       "      <td>856</td>\n",
       "      <td>7</td>\n",
       "      <td>5992</td>\n",
       "    </tr>\n",
       "    <tr>\n",
       "      <th>163</th>\n",
       "      <td>3</td>\n",
       "      <td>garments</td>\n",
       "      <td>464</td>\n",
       "      <td>4</td>\n",
       "      <td>1856</td>\n",
       "    </tr>\n",
       "    <tr>\n",
       "      <th>164</th>\n",
       "      <td>3</td>\n",
       "      <td>garments</td>\n",
       "      <td>915</td>\n",
       "      <td>8</td>\n",
       "      <td>7320</td>\n",
       "    </tr>\n",
       "    <tr>\n",
       "      <th>165</th>\n",
       "      <td>4</td>\n",
       "      <td>garments</td>\n",
       "      <td>318</td>\n",
       "      <td>8</td>\n",
       "      <td>2544</td>\n",
       "    </tr>\n",
       "  </tbody>\n",
       "</table>\n",
       "<p>166 rows × 5 columns</p>\n",
       "</div>"
      ],
      "text/plain": [
       "     Date   Product  Price  Units sold  Total sales:\n",
       "0       2      tech    884           4          3536\n",
       "1       2      tech    207           6          1242\n",
       "2       2      tech    750           9          6750\n",
       "3       2      tech    313           3           939\n",
       "4       3      tech    247           2           494\n",
       "..    ...       ...    ...         ...           ...\n",
       "161     3  garments    958           2          1916\n",
       "162     3  garments    856           7          5992\n",
       "163     3  garments    464           4          1856\n",
       "164     3  garments    915           8          7320\n",
       "165     4  garments    318           8          2544\n",
       "\n",
       "[166 rows x 5 columns]"
      ]
     },
     "execution_count": 7,
     "metadata": {},
     "output_type": "execute_result"
    }
   ],
   "source": [
    "import pandas as pd\n",
    "df=pd.read_csv(\"retail.csv\")\n",
    "df"
   ]
  },
  {
   "cell_type": "code",
   "execution_count": 26,
   "id": "ee4b54a3",
   "metadata": {},
   "outputs": [
    {
     "data": {
      "text/plain": [
       "482028"
      ]
     },
     "execution_count": 26,
     "metadata": {},
     "output_type": "execute_result"
    }
   ],
   "source": [
    "df[\"Total sales:\"].sum()"
   ]
  },
  {
   "cell_type": "code",
   "execution_count": 13,
   "id": "3ea4888b",
   "metadata": {},
   "outputs": [
    {
     "name": "stdout",
     "output_type": "stream",
     "text": [
      "[35170, 41411, 43200, 39076, 27290, 36980, 44239, 31482, 53978, 38957, 26547, 63698]\n"
     ]
    }
   ],
   "source": [
    "tsm=[]\n",
    "for i in range(1,13):\n",
    "    ts=0\n",
    "    for j in range(len(df)):\n",
    "        if i==df.Date[j]:\n",
    "            ts+=df[\"Total sales:\"][j]\n",
    "    tsm.append(ts)\n",
    "print(tsm)"
   ]
  },
  {
   "cell_type": "code",
   "execution_count": 21,
   "id": "7cd93467",
   "metadata": {},
   "outputs": [],
   "source": [
    "import matplotlib.pyplot as plt\n",
    "month=[\"Jan\",\"Feb\",\"Mar\",\"Apr\",\"May\",\"Jun\",\"Jul\",\"Aug\",\"Sep\",\"Oct\",\"Nov\",\"Dec\"]"
   ]
  },
  {
   "cell_type": "code",
   "execution_count": 22,
   "id": "95a33540",
   "metadata": {},
   "outputs": [
    {
     "data": {
      "image/png": "[encoded data removed]",
      "text/plain": [
       "<Figure size 640x480 with 1 Axes>"
      ]
     },
     "metadata": {},
     "output_type": "display_data"
    }
   ],
   "source": [
    "plt.plot(month,tsm)\n",
    "plt.show()"
   ]
  },
  {
   "cell_type": "code",
   "execution_count": 24,
   "id": "7566a0af",
   "metadata": {},
   "outputs": [
    {
     "name": "stdout",
     "output_type": "stream",
     "text": [
      "['garments', 'tech', 'electronics']\n"
     ]
    }
   ],
   "source": [
    "product=[]\n",
    "for i in df.Product:\n",
    "    product.append(i)\n",
    "lset=list(set(product))\n",
    "print(lset)"
   ]
  },
  {
   "cell_type": "code",
   "execution_count": 30,
   "id": "1b932c14",
   "metadata": {},
   "outputs": [
    {
     "name": "stdout",
     "output_type": "stream",
     "text": [
      "[129768, 197061, 155199]\n",
      "[592.6279069767442, 502.3150684931507, 616.1]\n"
     ]
    }
   ],
   "source": [
    "tsp=[]\n",
    "avg_price=[]\n",
    "for i in lset:\n",
    "    ts=0\n",
    "    price=0\n",
    "    count=0\n",
    "    for j in range(len(df)):\n",
    "        if i==df.Product[j]:\n",
    "            ts+=df[\"Total sales:\"][j]\n",
    "            price+=df.Price[j]\n",
    "            count+=1\n",
    "    tsp.append(ts)\n",
    "    avg_price.append(price/count)\n",
    "print(tsp)            \n",
    "print(avg_price)"
   ]
  },
  {
   "cell_type": "code",
   "execution_count": 29,
   "id": "cabca8cc",
   "metadata": {},
   "outputs": [
    {
     "data": {
      "image/png": "[encoded data removed]",
      "text/plain": [
       "<Figure size 640x480 with 1 Axes>"
      ]
     },
     "metadata": {},
     "output_type": "display_data"
    }
   ],
   "source": [
    "plt.bar(lset,tsp)\n",
    "plt.show()"
   ]
  },
  {
   "cell_type": "code",
   "execution_count": 32,
   "id": "8612d5db",
   "metadata": {},
   "outputs": [
    {
     "data": {
      "image/png": "[encoded data removed]",
      "text/plain": [
       "<Figure size 640x480 with 1 Axes>"
      ]
     },
     "metadata": {},
     "output_type": "display_data"
    }
   ],
   "source": [
    "plt.bar(lset,avg_price)\n",
    "plt.show()"
   ]
  },
  {
   "cell_type": "code",
   "execution_count": 34,
   "id": "6d7d32a7",
   "metadata": {},
   "outputs": [
    {
     "name": "stdout",
     "output_type": "stream",
     "text": [
      "[221, 398, 248]\n"
     ]
    }
   ],
   "source": [
    "tus=[]\n",
    "for i in lset:\n",
    "    tsu=0\n",
    "    for j in range(len(df)):\n",
    "        if i==df.Product[j]:\n",
    "            tsu+=df[\"Units sold\"][j]\n",
    "    tus.append(tsu)\n",
    "print(tus)"
   ]
  },
  {
   "cell_type": "code",
   "execution_count": 35,
   "id": "1305a31c",
   "metadata": {},
   "outputs": [
    {
     "data": {
      "image/png": "[encoded data removed]",
      "text/plain": [
       "<Figure size 640x480 with 1 Axes>"
      ]
     },
     "metadata": {},
     "output_type": "display_data"
    }
   ],
   "source": [
    "plt.bar(lset,tus)\n",
    "plt.show()"
   ]
  },
  {
   "cell_type": "code",
   "execution_count": 37,
   "id": "9d451cdc",
   "metadata": {},
   "outputs": [
    {
     "data": {
      "text/plain": [
       "0.5798168154762161"
      ]
     },
     "execution_count": 37,
     "metadata": {},
     "output_type": "execute_result"
    }
   ],
   "source": [
    "df[\"Price\"].corr(df[\"Total sales:\"])"
   ]
  },
  {
   "cell_type": "code",
   "execution_count": 38,
   "id": "734891c6",
   "metadata": {},
   "outputs": [
    {
     "data": {
      "text/plain": [
       "0.7151072833621394"
      ]
     },
     "execution_count": 38,
     "metadata": {},
     "output_type": "execute_result"
    }
   ],
   "source": [
    "df[\"Units sold\"].corr(df[\"Total sales:\"])"
   ]
  },
  {
   "cell_type": "code",
   "execution_count": 44,
   "id": "89fbd17b",
   "metadata": {},
   "outputs": [
    {
     "name": "stdout",
     "output_type": "stream",
     "text": [
      "The month with the highest sales is :  Dec\n"
     ]
    }
   ],
   "source": [
    "mix=tsm.index(max(tsm))\n",
    "print(\"The month with the highest sales is : \",month[mix])"
   ]
  },
  {
   "cell_type": "code",
   "execution_count": 47,
   "id": "29dc0e09",
   "metadata": {},
   "outputs": [
    {
     "name": "stdout",
     "output_type": "stream",
     "text": [
      "The predicted output for input = 350 is : 17.500000000000004\n"
     ]
    }
   ],
   "source": [
    "from sklearn.linear_model import LinearRegression\n",
    "import numpy as np\n",
    "X=np.array([100,200,300,400,500,600,700,800,900,1000]).reshape(-1,1)\n",
    "y=np.array([5,10,15,20,25,30,35,40,45,50])\n",
    "model=LinearRegression()\n",
    "model.fit(X,y)\n",
    "x=np.array([350]).reshape(-1,1)\n",
    "y_pred=model.predict(x)\n",
    "print(\"The predicted output for input = 350 is :\",y_pred[0])"
   ]
  },
  {
   "cell_type": "code",
   "execution_count": 50,
   "id": "13d6e1a8",
   "metadata": {},
   "outputs": [
    {
     "name": "stdout",
     "output_type": "stream",
     "text": [
      "1D Array filled with random values : \n",
      " [0.91924552 0.23050358 0.75318547 0.90435687 0.11089199 0.75800635\n",
      " 0.06092653 0.67863966 0.47683327 0.72305445]\n"
     ]
    }
   ],
   "source": [
    "array = np.random.rand(10)\n",
    "print(\"1D Array filled with random values : \\n\", array);"
   ]
  },
  {
   "cell_type": "code",
   "execution_count": 53,
   "id": "350d9214",
   "metadata": {},
   "outputs": [
    {
     "name": "stdout",
     "output_type": "stream",
     "text": [
      "[0.91924552 0.75318547 0.90435687 0.75800635 0.67863966 0.72305445]\n"
     ]
    }
   ],
   "source": [
    "mean=np.mean(array)\n",
    "lst=[]\n",
    "for i in array:\n",
    "    if i>mean:\n",
    "        lst.append(i)\n",
    "lst=np.array(lst)\n",
    "print(lst)"
   ]
  },
  {
   "cell_type": "code",
   "execution_count": null,
   "id": "f6e927e5",
   "metadata": {},
   "outputs": [],
   "source": []
  }
 ],
 "metadata": {
  "kernelspec": {
   "display_name": "Python 3 (ipykernel)",
   "language": "python",
   "name": "python3"
  },
  "language_info": {
   "codemirror_mode": {
    "name": "ipython",
    "version": 3
   },
   "file_extension": ".py",
   "mimetype": "text/x-python",
   "name": "python",
   "nbconvert_exporter": "python",
   "pygments_lexer": "ipython3",
   "version": "3.9.16"
  }
 },
 "nbformat": 4,
 "nbformat_minor": 5
}
