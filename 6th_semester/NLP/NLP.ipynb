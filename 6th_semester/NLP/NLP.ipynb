{
 "cells": [
  {
   "cell_type": "markdown",
   "id": "67a5fa4f",
   "metadata": {},
   "source": [
    "#                                                    18/01/2023"
   ]
  },
  {
   "cell_type": "code",
   "execution_count": 1,
   "id": "2bc8b93a",
   "metadata": {},
   "outputs": [
    {
     "data": {
      "text/plain": [
       "'NLP'"
      ]
     },
     "execution_count": 1,
     "metadata": {},
     "output_type": "execute_result"
    }
   ],
   "source": [
    "lis=[67,-90,True,\"NLP\",34+7j,[12,-56,\"T&T\"]]\n",
    "lis[3]"
   ]
  },
  {
   "cell_type": "code",
   "execution_count": 2,
   "id": "6cae8845",
   "metadata": {},
   "outputs": [
    {
     "name": "stdout",
     "output_type": "stream",
     "text": [
      "-56\n",
      "-56\n"
     ]
    }
   ],
   "source": [
    "print(lis[5][1])\n",
    "print(lis[-1][1])"
   ]
  },
  {
   "cell_type": "code",
   "execution_count": 3,
   "id": "80db5352",
   "metadata": {},
   "outputs": [
    {
     "data": {
      "text/plain": [
       "['__add__',\n",
       " '__class__',\n",
       " '__class_getitem__',\n",
       " '__contains__',\n",
       " '__delattr__',\n",
       " '__delitem__',\n",
       " '__dir__',\n",
       " '__doc__',\n",
       " '__eq__',\n",
       " '__format__',\n",
       " '__ge__',\n",
       " '__getattribute__',\n",
       " '__getitem__',\n",
       " '__gt__',\n",
       " '__hash__',\n",
       " '__iadd__',\n",
       " '__imul__',\n",
       " '__init__',\n",
       " '__init_subclass__',\n",
       " '__iter__',\n",
       " '__le__',\n",
       " '__len__',\n",
       " '__lt__',\n",
       " '__mul__',\n",
       " '__ne__',\n",
       " '__new__',\n",
       " '__reduce__',\n",
       " '__reduce_ex__',\n",
       " '__repr__',\n",
       " '__reversed__',\n",
       " '__rmul__',\n",
       " '__setattr__',\n",
       " '__setitem__',\n",
       " '__sizeof__',\n",
       " '__str__',\n",
       " '__subclasshook__',\n",
       " 'append',\n",
       " 'clear',\n",
       " 'copy',\n",
       " 'count',\n",
       " 'extend',\n",
       " 'index',\n",
       " 'insert',\n",
       " 'pop',\n",
       " 'remove',\n",
       " 'reverse',\n",
       " 'sort']"
      ]
     },
     "execution_count": 3,
     "metadata": {},
     "output_type": "execute_result"
    }
   ],
   "source": [
    "dir(list)"
   ]
  },
  {
   "cell_type": "code",
   "execution_count": 4,
   "id": "f63d7859",
   "metadata": {},
   "outputs": [],
   "source": [
    "lis.append(30)"
   ]
  },
  {
   "cell_type": "code",
   "execution_count": 5,
   "id": "43bfca0f",
   "metadata": {},
   "outputs": [
    {
     "name": "stdout",
     "output_type": "stream",
     "text": [
      "Help on built-in function insert:\n",
      "\n",
      "insert(index, object, /) method of builtins.list instance\n",
      "    Insert object before index.\n",
      "\n"
     ]
    }
   ],
   "source": [
    "help(lis.insert)"
   ]
  },
  {
   "cell_type": "code",
   "execution_count": 6,
   "id": "8f0693fa",
   "metadata": {},
   "outputs": [
    {
     "data": {
      "text/plain": [
       "[67, -90, True, 'NLP', 59, (34+7j), [12, -56, 'T&T'], 30]"
      ]
     },
     "execution_count": 6,
     "metadata": {},
     "output_type": "execute_result"
    }
   ],
   "source": [
    "lis.insert(4,59)\n",
    "lis"
   ]
  },
  {
   "cell_type": "code",
   "execution_count": 7,
   "id": "adf8cb95",
   "metadata": {},
   "outputs": [
    {
     "data": {
      "text/plain": [
       "[67, -90, True, 'NLP', 59, (34+7j), [12, -56, 30, 'T&T'], 30]"
      ]
     },
     "execution_count": 7,
     "metadata": {},
     "output_type": "execute_result"
    }
   ],
   "source": [
    "lis[-2].insert(2,30)\n",
    "lis"
   ]
  },
  {
   "cell_type": "code",
   "execution_count": 8,
   "id": "62d5f305",
   "metadata": {},
   "outputs": [
    {
     "data": {
      "text/plain": [
       "2"
      ]
     },
     "execution_count": 8,
     "metadata": {},
     "output_type": "execute_result"
    }
   ],
   "source": [
    "lis.index(True)"
   ]
  },
  {
   "cell_type": "code",
   "execution_count": 9,
   "id": "2909da8f",
   "metadata": {},
   "outputs": [
    {
     "data": {
      "text/plain": [
       "3"
      ]
     },
     "execution_count": 9,
     "metadata": {},
     "output_type": "execute_result"
    }
   ],
   "source": [
    "lis.index(\"NLP\")"
   ]
  },
  {
   "cell_type": "code",
   "execution_count": 10,
   "id": "572a8ace",
   "metadata": {},
   "outputs": [
    {
     "ename": "ValueError",
     "evalue": "'no' is not in list",
     "output_type": "error",
     "traceback": [
      "\u001b[1;31m---------------------------------------------------------------------------\u001b[0m",
      "\u001b[1;31mValueError\u001b[0m                                Traceback (most recent call last)",
      "\u001b[1;32m~\\AppData\\Local\\Temp\\ipykernel_25004\\2980293570.py\u001b[0m in \u001b[0;36m<module>\u001b[1;34m\u001b[0m\n\u001b[1;32m----> 1\u001b[1;33m \u001b[0mlis\u001b[0m\u001b[1;33m.\u001b[0m\u001b[0mindex\u001b[0m\u001b[1;33m(\u001b[0m\u001b[1;34m\"no\"\u001b[0m\u001b[1;33m)\u001b[0m\u001b[1;33m\u001b[0m\u001b[1;33m\u001b[0m\u001b[0m\n\u001b[0m",
      "\u001b[1;31mValueError\u001b[0m: 'no' is not in list"
     ]
    }
   ],
   "source": [
    "lis.index(\"no\")"
   ]
  },
  {
   "cell_type": "code",
   "execution_count": null,
   "id": "ad7755ac",
   "metadata": {},
   "outputs": [],
   "source": [
    "lit1=[23,67,5,8,23,23,8,90]\n",
    "lit1"
   ]
  },
  {
   "cell_type": "code",
   "execution_count": null,
   "id": "5e0e5a1f",
   "metadata": {},
   "outputs": [],
   "source": [
    "lit1.remove(23)\n",
    "lit1"
   ]
  },
  {
   "cell_type": "code",
   "execution_count": null,
   "id": "9f31c1f6",
   "metadata": {},
   "outputs": [],
   "source": [
    "while 23 in lit1:\n",
    "    lit1.remove(23)\n",
    "lit1"
   ]
  },
  {
   "cell_type": "code",
   "execution_count": null,
   "id": "0db102ac",
   "metadata": {},
   "outputs": [],
   "source": [
    "import math\n",
    "dir(math)"
   ]
  },
  {
   "cell_type": "code",
   "execution_count": null,
   "id": "777167c7",
   "metadata": {},
   "outputs": [],
   "source": [
    "help(math.sqrt)"
   ]
  },
  {
   "cell_type": "code",
   "execution_count": null,
   "id": "df5ff048",
   "metadata": {},
   "outputs": [],
   "source": [
    "x=input(\"Enter the number : \")\n",
    "x=int(x)\n",
    "print(math.sqrt(x))"
   ]
  },
  {
   "cell_type": "markdown",
   "id": "e224bc49",
   "metadata": {},
   "source": [
    "# 20/01/2023"
   ]
  },
  {
   "cell_type": "code",
   "execution_count": 11,
   "id": "d55b3a2a",
   "metadata": {},
   "outputs": [],
   "source": [
    "import nltk\n",
    "import nltk.tokenize"
   ]
  },
  {
   "cell_type": "code",
   "execution_count": 12,
   "id": "24daab41",
   "metadata": {},
   "outputs": [],
   "source": [
    "#Sentence Tokenization"
   ]
  },
  {
   "cell_type": "code",
   "execution_count": 13,
   "id": "9b394757",
   "metadata": {},
   "outputs": [],
   "source": [
    "from nltk.tokenize import sent_tokenize"
   ]
  },
  {
   "cell_type": "code",
   "execution_count": 14,
   "id": "08c32684",
   "metadata": {},
   "outputs": [
    {
     "data": {
      "text/plain": [
       "'I am a good boy. I study in KIIT. I love to read books.'"
      ]
     },
     "execution_count": 14,
     "metadata": {},
     "output_type": "execute_result"
    }
   ],
   "source": [
    "cor=\"I am a good boy. I study in KIIT. I love to read books.\"\n",
    "cor"
   ]
  },
  {
   "cell_type": "code",
   "execution_count": 18,
   "id": "5af3b607",
   "metadata": {},
   "outputs": [
    {
     "data": {
      "text/plain": [
       "['I am a good boy.', 'I study in KIIT.', 'I love to read books.']"
      ]
     },
     "execution_count": 18,
     "metadata": {},
     "output_type": "execute_result"
    }
   ],
   "source": [
    "sent=sent_tokenize(cor)\n",
    "sent"
   ]
  },
  {
   "cell_type": "code",
   "execution_count": 19,
   "id": "020cd735",
   "metadata": {},
   "outputs": [
    {
     "data": {
      "text/plain": [
       "3"
      ]
     },
     "execution_count": 19,
     "metadata": {},
     "output_type": "execute_result"
    }
   ],
   "source": [
    "len(sent)"
   ]
  },
  {
   "cell_type": "code",
   "execution_count": 20,
   "id": "35a1e601",
   "metadata": {},
   "outputs": [
    {
     "name": "stdout",
     "output_type": "stream",
     "text": [
      "['I am a good boy.', 'I study in KIIT.', 'I love to read books.']\n"
     ]
    }
   ],
   "source": [
    "print(sent)"
   ]
  },
  {
   "cell_type": "code",
   "execution_count": 21,
   "id": "db6eaf5e",
   "metadata": {},
   "outputs": [
    {
     "name": "stdout",
     "output_type": "stream",
     "text": [
      "I am a good boy.\n",
      "I study in KIIT.\n",
      "I love to read books.\n"
     ]
    }
   ],
   "source": [
    "for i in sent:\n",
    "    print(i)"
   ]
  },
  {
   "cell_type": "code",
   "execution_count": 22,
   "id": "9d660f6f",
   "metadata": {},
   "outputs": [],
   "source": [
    "from nltk.tokenize import word_tokenize"
   ]
  },
  {
   "cell_type": "code",
   "execution_count": 23,
   "id": "b245eaa9",
   "metadata": {},
   "outputs": [
    {
     "data": {
      "text/plain": [
       "['I', 'want', 'to', 'do', 'something', 'good', '.']"
      ]
     },
     "execution_count": 23,
     "metadata": {},
     "output_type": "execute_result"
    }
   ],
   "source": [
    "token=word_tokenize(\"I want to do something good.\")\n",
    "token"
   ]
  },
  {
   "cell_type": "code",
   "execution_count": 24,
   "id": "322a267b",
   "metadata": {},
   "outputs": [
    {
     "data": {
      "text/plain": [
       "7"
      ]
     },
     "execution_count": 24,
     "metadata": {},
     "output_type": "execute_result"
    }
   ],
   "source": [
    "len(token)"
   ]
  },
  {
   "cell_type": "code",
   "execution_count": 27,
   "id": "38814717",
   "metadata": {},
   "outputs": [],
   "source": [
    "#stemming using porterstemmer\n",
    "from nltk.stem import PorterStemmer\n",
    "ps=PorterStemmer()"
   ]
  },
  {
   "cell_type": "code",
   "execution_count": 29,
   "id": "8465c79d",
   "metadata": {},
   "outputs": [
    {
     "data": {
      "text/plain": [
       "'teach'"
      ]
     },
     "execution_count": 29,
     "metadata": {},
     "output_type": "execute_result"
    }
   ],
   "source": [
    "ps.stem('teaching')"
   ]
  },
  {
   "cell_type": "code",
   "execution_count": 31,
   "id": "52462281",
   "metadata": {},
   "outputs": [
    {
     "name": "stdout",
     "output_type": "stream",
     "text": [
      "i am a good boy.\n",
      "i study in kiit.\n",
      "i love to read books.\n"
     ]
    }
   ],
   "source": [
    "for s in sent:\n",
    "    print(ps.stem(s))"
   ]
  },
  {
   "cell_type": "code",
   "execution_count": 32,
   "id": "93e0547e",
   "metadata": {},
   "outputs": [
    {
     "name": "stdout",
     "output_type": "stream",
     "text": [
      "i\n",
      "want\n",
      "to\n",
      "do\n",
      "someth\n",
      "good\n",
      ".\n"
     ]
    }
   ],
   "source": [
    "for s in token:\n",
    "    print(ps.stem(s))"
   ]
  },
  {
   "cell_type": "code",
   "execution_count": 33,
   "id": "465b02f8",
   "metadata": {},
   "outputs": [
    {
     "name": "stdout",
     "output_type": "stream",
     "text": [
      "i\n",
      "realli\n",
      "like\n",
      "the\n",
      "movi\n",
      "veri\n",
      "much\n"
     ]
    }
   ],
   "source": [
    "for i in word_tokenize(\"I really liked the movie very much\"):\n",
    "    print(ps.stem(i))"
   ]
  },
  {
   "cell_type": "code",
   "execution_count": 34,
   "id": "cd231549",
   "metadata": {},
   "outputs": [],
   "source": [
    "#LancasterStemmer"
   ]
  },
  {
   "cell_type": "code",
   "execution_count": 11,
   "id": "a6ec7814",
   "metadata": {},
   "outputs": [],
   "source": [
    "from nltk.stem import LancasterStemmer"
   ]
  },
  {
   "cell_type": "code",
   "execution_count": 12,
   "id": "fc9eebea",
   "metadata": {},
   "outputs": [],
   "source": [
    "ls=LancasterStemmer()"
   ]
  },
  {
   "cell_type": "code",
   "execution_count": 38,
   "id": "0b7f1541",
   "metadata": {},
   "outputs": [
    {
     "name": "stdout",
     "output_type": "stream",
     "text": [
      "i\n",
      "real\n",
      "lik\n",
      "the\n",
      "movy\n",
      "very\n",
      "much\n"
     ]
    }
   ],
   "source": [
    "for i in word_tokenize(\"I really liked the movie very much\"):\n",
    "    print(ls.stem(i))"
   ]
  },
  {
   "cell_type": "code",
   "execution_count": 45,
   "id": "adc77c3a",
   "metadata": {},
   "outputs": [],
   "source": [
    "#SnowballStemmer"
   ]
  },
  {
   "cell_type": "code",
   "execution_count": 46,
   "id": "deafdc46",
   "metadata": {},
   "outputs": [],
   "source": [
    "from nltk.stem import SnowballStemmer"
   ]
  },
  {
   "cell_type": "code",
   "execution_count": 51,
   "id": "a098ec0e",
   "metadata": {},
   "outputs": [],
   "source": [
    "ss=SnowballStemmer(language='english')"
   ]
  },
  {
   "cell_type": "code",
   "execution_count": 52,
   "id": "32bdc219",
   "metadata": {},
   "outputs": [
    {
     "name": "stdout",
     "output_type": "stream",
     "text": [
      "i\n",
      "realli\n",
      "like\n",
      "the\n",
      "movi\n",
      "veri\n",
      "much\n"
     ]
    }
   ],
   "source": [
    "for i in word_tokenize(\"I really liked the movie very much\"):\n",
    "    print(ss.stem(i))"
   ]
  },
  {
   "cell_type": "code",
   "execution_count": 56,
   "id": "6f9564f6",
   "metadata": {},
   "outputs": [
    {
     "name": "stdout",
     "output_type": "stream",
     "text": [
      "PorterStemmer: \tLancasterStemmer: \tSnowballStemmer\n",
      "i \t\t i \t\t\t i\n",
      "realli \t\t real \t\t\t realli\n",
      "like \t\t lik \t\t\t like\n",
      "the \t\t the \t\t\t the\n",
      "movi \t\t movy \t\t\t movi\n",
      "veri \t\t very \t\t\t veri\n",
      "much \t\t much \t\t\t much\n"
     ]
    }
   ],
   "source": [
    "print(\"PorterStemmer: \\tLancasterStemmer: \\tSnowballStemmer\")\n",
    "for i in word_tokenize(\"I really liked the movie very much\"):\n",
    "    print(ps.stem(i),\"\\t\\t\",ls.stem(i),\"\\t\\t\\t\",ss.stem(i))"
   ]
  },
  {
   "cell_type": "markdown",
   "id": "03c8ce9e",
   "metadata": {},
   "source": [
    "# 24/01/2023"
   ]
  },
  {
   "cell_type": "code",
   "execution_count": 1,
   "id": "fffb35e1",
   "metadata": {},
   "outputs": [],
   "source": [
    "from nltk.stem import WordNetLemmatizer as wnl\n",
    "lema=wnl()"
   ]
  },
  {
   "cell_type": "code",
   "execution_count": 10,
   "id": "07026ae4",
   "metadata": {},
   "outputs": [
    {
     "name": "stdout",
     "output_type": "stream",
     "text": [
      "corpus\n"
     ]
    }
   ],
   "source": [
    "#output of 'corpora' using lemmatizer\n",
    "print(lema.lemmatize('corpora'))"
   ]
  },
  {
   "cell_type": "code",
   "execution_count": 13,
   "id": "66080e89",
   "metadata": {},
   "outputs": [
    {
     "name": "stdout",
     "output_type": "stream",
     "text": [
      "corpor\n"
     ]
    }
   ],
   "source": [
    "print(ls.stem('corpora'))"
   ]
  },
  {
   "cell_type": "code",
   "execution_count": 4,
   "id": "9f918e2d",
   "metadata": {},
   "outputs": [
    {
     "data": {
      "text/plain": [
       "6"
      ]
     },
     "execution_count": 4,
     "metadata": {},
     "output_type": "execute_result"
    }
   ],
   "source": [
    "words=['feet','arguing','like','catty','programmer','argument']\n",
    "len(words)"
   ]
  },
  {
   "cell_type": "code",
   "execution_count": 14,
   "id": "0e15d90b",
   "metadata": {},
   "outputs": [
    {
     "name": "stdout",
     "output_type": "stream",
     "text": [
      "foot arguing like catty programmer argument "
     ]
    }
   ],
   "source": [
    "for i in words:\n",
    "    print(lema.lemmatize(i),end=' ')"
   ]
  },
  {
   "cell_type": "code",
   "execution_count": 15,
   "id": "9caca1e2",
   "metadata": {},
   "outputs": [
    {
     "name": "stdout",
     "output_type": "stream",
     "text": [
      "feet : feet | foot\n",
      "arguing : argu | arguing\n",
      "like : lik | like\n",
      "catty : catty | catty\n",
      "programmer : program | programmer\n",
      "argument : argu | argument\n"
     ]
    }
   ],
   "source": [
    "for i in words:\n",
    "    print(i,':',ls.stem(i),'|',lema.lemmatize(i))"
   ]
  },
  {
   "cell_type": "markdown",
   "id": "5c5f8358",
   "metadata": {},
   "source": [
    "Spacy implementation"
   ]
  },
  {
   "cell_type": "code",
   "execution_count": 17,
   "id": "b6fbc52f",
   "metadata": {},
   "outputs": [],
   "source": [
    "import spacy"
   ]
  },
  {
   "cell_type": "code",
   "execution_count": 28,
   "id": "af374d42",
   "metadata": {},
   "outputs": [],
   "source": [
    "nlp=spacy.load('en_core_web_sm')"
   ]
  },
  {
   "cell_type": "code",
   "execution_count": 29,
   "id": "2668eb73",
   "metadata": {},
   "outputs": [
    {
     "data": {
      "text/plain": [
       "'feet arguing like catty programmer argument'"
      ]
     },
     "execution_count": 29,
     "metadata": {},
     "output_type": "execute_result"
    }
   ],
   "source": [
    "text=\" \".join(words)\n",
    "text"
   ]
  },
  {
   "cell_type": "code",
   "execution_count": 30,
   "id": "c8d20746",
   "metadata": {},
   "outputs": [],
   "source": [
    "doc=nlp(text)"
   ]
  },
  {
   "cell_type": "code",
   "execution_count": 31,
   "id": "3a1492c0",
   "metadata": {},
   "outputs": [
    {
     "name": "stdout",
     "output_type": "stream",
     "text": [
      "feetarguinglikecattyprogrammerargument"
     ]
    }
   ],
   "source": [
    "for x in doc:\n",
    "    print(x,end='')"
   ]
  },
  {
   "cell_type": "code",
   "execution_count": 32,
   "id": "014e8ced",
   "metadata": {},
   "outputs": [],
   "source": [
    "##lemmatization in spacy\n"
   ]
  },
  {
   "cell_type": "code",
   "execution_count": 33,
   "id": "02dd12b5",
   "metadata": {},
   "outputs": [
    {
     "name": "stdout",
     "output_type": "stream",
     "text": [
      "foot\n",
      "argue\n",
      "like\n",
      "catty\n",
      "programmer\n",
      "argument\n"
     ]
    }
   ],
   "source": [
    "for tok in doc:\n",
    "    print(tok.lemma_)"
   ]
  },
  {
   "cell_type": "code",
   "execution_count": 34,
   "id": "08bff500",
   "metadata": {},
   "outputs": [
    {
     "name": "stdout",
     "output_type": "stream",
     "text": [
      "2487707037056\n",
      "(4, 5, 6, 7, 9)\n",
      "2487707305440\n"
     ]
    }
   ],
   "source": [
    "t1=(4,5,6)\n",
    "print(id(t1))\n",
    "t1=t1+(7,9)\n",
    "print(t1)\n",
    "print(id(t1))"
   ]
  },
  {
   "cell_type": "code",
   "execution_count": 36,
   "id": "43aa391a",
   "metadata": {},
   "outputs": [
    {
     "name": "stdout",
     "output_type": "stream",
     "text": [
      "feet | foot NOUN\n",
      "arguing | argue VERB\n",
      "like | like ADP\n",
      "catty | catty ADJ\n",
      "programmer | programmer NOUN\n",
      "argument | argument NOUN\n"
     ]
    }
   ],
   "source": [
    "for tok in doc:\n",
    "    print(tok.text,\"|\",tok.lemma_,tok.pos_)"
   ]
  },
  {
   "cell_type": "code",
   "execution_count": 37,
   "id": "ec133d3c",
   "metadata": {},
   "outputs": [
    {
     "data": {
      "text/plain": [
       "['tok2vec', 'tagger', 'parser', 'attribute_ruler', 'lemmatizer', 'ner']"
      ]
     },
     "execution_count": 37,
     "metadata": {},
     "output_type": "execute_result"
    }
   ],
   "source": [
    "nlp.pipe_names"
   ]
  },
  {
   "cell_type": "code",
   "execution_count": 39,
   "id": "62734a0f",
   "metadata": {},
   "outputs": [
    {
     "data": {
      "text/plain": [
       "[('tok2vec', <spacy.pipeline.tok2vec.Tok2Vec at 0x24330afaee0>),\n",
       " ('tagger', <spacy.pipeline.tagger.Tagger at 0x243371cefa0>),\n",
       " ('parser', <spacy.pipeline.dep_parser.DependencyParser at 0x24336ef7eb0>),\n",
       " ('attribute_ruler',\n",
       "  <spacy.pipeline.attributeruler.AttributeRuler at 0x24337239140>),\n",
       " ('lemmatizer', <spacy.lang.en.lemmatizer.EnglishLemmatizer at 0x24337280580>),\n",
       " ('ner', <spacy.pipeline.ner.EntityRecognizer at 0x24336ef7e40>)]"
      ]
     },
     "execution_count": 39,
     "metadata": {},
     "output_type": "execute_result"
    }
   ],
   "source": [
    "nlp.pipeline"
   ]
  },
  {
   "cell_type": "markdown",
   "id": "6fd03fa2",
   "metadata": {},
   "source": [
    "# 25/01/2023"
   ]
  },
  {
   "cell_type": "code",
   "execution_count": 1,
   "id": "44b792f0",
   "metadata": {},
   "outputs": [],
   "source": [
    "import spacy\n",
    "model=spacy.load('en_core_web_sm')"
   ]
  },
  {
   "cell_type": "code",
   "execution_count": 9,
   "id": "86503265",
   "metadata": {},
   "outputs": [
    {
     "name": "stdout",
     "output_type": "stream",
     "text": [
      "Hello how are you.\n",
      "What are you doing.\n",
      "How are you doing\n"
     ]
    }
   ],
   "source": [
    "para='Hello how are you. What are you doing. How are you doing'\n",
    "for sentence in (model(para)).sents:\n",
    "    print(sentence)"
   ]
  },
  {
   "cell_type": "code",
   "execution_count": 10,
   "id": "b75b81b2",
   "metadata": {},
   "outputs": [
    {
     "name": "stdout",
     "output_type": "stream",
     "text": [
      "Hello\n",
      "how\n",
      "are\n",
      "you\n",
      ".\n",
      "What\n",
      "are\n",
      "you\n",
      "doing\n",
      ".\n",
      "How\n",
      "are\n",
      "you\n",
      "doing\n",
      ".\n"
     ]
    }
   ],
   "source": [
    "para='Hello how are you. What are you doing. How are you doing.'\n",
    "for sentence in (model(para)).sents:\n",
    "    for token in sentence:\n",
    "        print(token)\n",
    "    #print(sentence)"
   ]
  },
  {
   "cell_type": "code",
   "execution_count": 11,
   "id": "d7e60aaf",
   "metadata": {},
   "outputs": [
    {
     "data": {
      "text/plain": [
       "str"
      ]
     },
     "execution_count": 11,
     "metadata": {},
     "output_type": "execute_result"
    }
   ],
   "source": [
    "type(para)"
   ]
  },
  {
   "cell_type": "code",
   "execution_count": 12,
   "id": "5f3bafc5",
   "metadata": {},
   "outputs": [
    {
     "data": {
      "text/plain": [
       "spacy.tokens.doc.Doc"
      ]
     },
     "execution_count": 12,
     "metadata": {},
     "output_type": "execute_result"
    }
   ],
   "source": [
    "doc=model(para)\n",
    "type(doc)"
   ]
  },
  {
   "cell_type": "code",
   "execution_count": 13,
   "id": "a723ad84",
   "metadata": {},
   "outputs": [
    {
     "name": "stdout",
     "output_type": "stream",
     "text": [
      "Hello | hello | INTJ\n",
      "how | how | SCONJ\n",
      "are | be | AUX\n",
      "you | you | PRON\n",
      ". | . | PUNCT\n",
      "What | what | PRON\n",
      "are | be | AUX\n",
      "you | you | PRON\n",
      "doing | do | VERB\n",
      ". | . | PUNCT\n",
      "How | how | SCONJ\n",
      "are | be | AUX\n",
      "you | you | PRON\n",
      "doing | do | VERB\n",
      ". | . | PUNCT\n"
     ]
    }
   ],
   "source": [
    "for lem in model(para):\n",
    "    print(lem,\"|\",lem.lemma_,\"|\",lem.pos_)"
   ]
  },
  {
   "cell_type": "code",
   "execution_count": 16,
   "id": "f9c46dde",
   "metadata": {},
   "outputs": [
    {
     "data": {
      "text/plain": [
       "'Countries, cities, states'"
      ]
     },
     "execution_count": 16,
     "metadata": {},
     "output_type": "execute_result"
    }
   ],
   "source": [
    "spacy.explain('GPE')"
   ]
  },
  {
   "cell_type": "code",
   "execution_count": 21,
   "id": "287d730e",
   "metadata": {},
   "outputs": [
    {
     "data": {
      "text/plain": [
       "('CARDINAL',\n",
       " 'DATE',\n",
       " 'EVENT',\n",
       " 'FAC',\n",
       " 'GPE',\n",
       " 'LANGUAGE',\n",
       " 'LAW',\n",
       " 'LOC',\n",
       " 'MONEY',\n",
       " 'NORP',\n",
       " 'ORDINAL',\n",
       " 'ORG',\n",
       " 'PERCENT',\n",
       " 'PERSON',\n",
       " 'PRODUCT',\n",
       " 'QUANTITY',\n",
       " 'TIME',\n",
       " 'WORK_OF_ART')"
      ]
     },
     "execution_count": 21,
     "metadata": {},
     "output_type": "execute_result"
    }
   ],
   "source": [
    "import spacy\n",
    "nlp = spacy.load(\"en_core_web_sm\")\n",
    "nlp.get_pipe(\"ner\").labels"
   ]
  },
  {
   "cell_type": "code",
   "execution_count": 23,
   "id": "57740953",
   "metadata": {},
   "outputs": [
    {
     "data": {
      "text/plain": [
       "['tok2vec', 'tagger', 'parser', 'attribute_ruler', 'lemmatizer', 'ner']"
      ]
     },
     "execution_count": 23,
     "metadata": {},
     "output_type": "execute_result"
    }
   ],
   "source": [
    "model.pipe_names"
   ]
  },
  {
   "cell_type": "code",
   "execution_count": 4,
   "id": "925abf66",
   "metadata": {},
   "outputs": [
    {
     "name": "stdout",
     "output_type": "stream",
     "text": [
      "be\n",
      "be\n"
     ]
    }
   ],
   "source": [
    "par=\"is am\"\n",
    "for lem in model(par):\n",
    "    print(lem.lemma_)"
   ]
  },
  {
   "cell_type": "markdown",
   "id": "76d060aa",
   "metadata": {},
   "source": [
    "# 27/01/2023"
   ]
  },
  {
   "cell_type": "code",
   "execution_count": 16,
   "id": "1020a5c7",
   "metadata": {},
   "outputs": [],
   "source": [
    "import nltk\n",
    "from nltk.util import bigrams,trigrams,ngrams"
   ]
  },
  {
   "cell_type": "code",
   "execution_count": 17,
   "id": "6c0ba799",
   "metadata": {},
   "outputs": [],
   "source": [
    "s=\"I am a NLP student studying in class\""
   ]
  },
  {
   "cell_type": "code",
   "execution_count": 18,
   "id": "bd36a4bc",
   "metadata": {},
   "outputs": [
    {
     "data": {
      "text/plain": [
       "['I', 'am', 'a', 'NLP', 'student', 'studying', 'in', 'class']"
      ]
     },
     "execution_count": 18,
     "metadata": {},
     "output_type": "execute_result"
    }
   ],
   "source": [
    "tokens=nltk.word_tokenize(s)\n",
    "tokens"
   ]
  },
  {
   "cell_type": "code",
   "execution_count": 20,
   "id": "5ac8d6ce",
   "metadata": {},
   "outputs": [
    {
     "data": {
      "text/plain": [
       "[('I', 'am'),\n",
       " ('am', 'a'),\n",
       " ('a', 'NLP'),\n",
       " ('NLP', 'student'),\n",
       " ('student', 'studying'),\n",
       " ('studying', 'in'),\n",
       " ('in', 'class')]"
      ]
     },
     "execution_count": 20,
     "metadata": {},
     "output_type": "execute_result"
    }
   ],
   "source": [
    "list(nltk.bigrams(tokens))"
   ]
  },
  {
   "cell_type": "code",
   "execution_count": 21,
   "id": "dffbfddc",
   "metadata": {},
   "outputs": [
    {
     "data": {
      "text/plain": [
       "[('I', 'am', 'a'),\n",
       " ('am', 'a', 'NLP'),\n",
       " ('a', 'NLP', 'student'),\n",
       " ('NLP', 'student', 'studying'),\n",
       " ('student', 'studying', 'in'),\n",
       " ('studying', 'in', 'class')]"
      ]
     },
     "execution_count": 21,
     "metadata": {},
     "output_type": "execute_result"
    }
   ],
   "source": [
    "list(nltk.trigrams(tokens))"
   ]
  },
  {
   "cell_type": "code",
   "execution_count": 27,
   "id": "a9cb71ee",
   "metadata": {},
   "outputs": [
    {
     "data": {
      "text/plain": [
       "[('I', 'am', 'a', 'NLP', 'student'),\n",
       " ('am', 'a', 'NLP', 'student', 'studying'),\n",
       " ('a', 'NLP', 'student', 'studying', 'in'),\n",
       " ('NLP', 'student', 'studying', 'in', 'class')]"
      ]
     },
     "execution_count": 27,
     "metadata": {},
     "output_type": "execute_result"
    }
   ],
   "source": [
    "list(nltk.ngrams(tokens,5))"
   ]
  },
  {
   "cell_type": "code",
   "execution_count": null,
   "id": "e3e4381a",
   "metadata": {},
   "outputs": [],
   "source": []
  }
 ],
 "metadata": {
  "kernelspec": {
   "display_name": "Python 3 (ipykernel)",
   "language": "python",
   "name": "python3"
  },
  "language_info": {
   "codemirror_mode": {
    "name": "ipython",
    "version": 3
   },
   "file_extension": ".py",
   "mimetype": "text/x-python",
   "name": "python",
   "nbconvert_exporter": "python",
   "pygments_lexer": "ipython3",
   "version": "3.9.16"
  }
 },
 "nbformat": 4,
 "nbformat_minor": 5
}
