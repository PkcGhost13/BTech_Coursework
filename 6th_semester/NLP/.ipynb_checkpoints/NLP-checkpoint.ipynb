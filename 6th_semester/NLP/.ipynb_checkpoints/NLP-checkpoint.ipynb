{
 "cells": [
  {
   "cell_type": "markdown",
   "id": "67a5fa4f",
   "metadata": {},
   "source": [
    "#                                                    18/01/2023"
   ]
  },
  {
   "cell_type": "code",
   "execution_count": 1,
   "id": "2bc8b93a",
   "metadata": {},
   "outputs": [
    {
     "data": {
      "text/plain": [
       "'NLP'"
      ]
     },
     "execution_count": 1,
     "metadata": {},
     "output_type": "execute_result"
    }
   ],
   "source": [
    "lis=[67,-90,True,\"NLP\",34+7j,[12,-56,\"T&T\"]]\n",
    "lis[3]"
   ]
  },
  {
   "cell_type": "code",
   "execution_count": 2,
   "id": "6cae8845",
   "metadata": {},
   "outputs": [
    {
     "name": "stdout",
     "output_type": "stream",
     "text": [
      "-56\n",
      "-56\n"
     ]
    }
   ],
   "source": [
    "print(lis[5][1])\n",
    "print(lis[-1][1])"
   ]
  },
  {
   "cell_type": "code",
   "execution_count": 3,
   "id": "80db5352",
   "metadata": {},
   "outputs": [
    {
     "data": {
      "text/plain": [
       "['__add__',\n",
       " '__class__',\n",
       " '__class_getitem__',\n",
       " '__contains__',\n",
       " '__delattr__',\n",
       " '__delitem__',\n",
       " '__dir__',\n",
       " '__doc__',\n",
       " '__eq__',\n",
       " '__format__',\n",
       " '__ge__',\n",
       " '__getattribute__',\n",
       " '__getitem__',\n",
       " '__gt__',\n",
       " '__hash__',\n",
       " '__iadd__',\n",
       " '__imul__',\n",
       " '__init__',\n",
       " '__init_subclass__',\n",
       " '__iter__',\n",
       " '__le__',\n",
       " '__len__',\n",
       " '__lt__',\n",
       " '__mul__',\n",
       " '__ne__',\n",
       " '__new__',\n",
       " '__reduce__',\n",
       " '__reduce_ex__',\n",
       " '__repr__',\n",
       " '__reversed__',\n",
       " '__rmul__',\n",
       " '__setattr__',\n",
       " '__setitem__',\n",
       " '__sizeof__',\n",
       " '__str__',\n",
       " '__subclasshook__',\n",
       " 'append',\n",
       " 'clear',\n",
       " 'copy',\n",
       " 'count',\n",
       " 'extend',\n",
       " 'index',\n",
       " 'insert',\n",
       " 'pop',\n",
       " 'remove',\n",
       " 'reverse',\n",
       " 'sort']"
      ]
     },
     "execution_count": 3,
     "metadata": {},
     "output_type": "execute_result"
    }
   ],
   "source": [
    "dir(list)"
   ]
  },
  {
   "cell_type": "code",
   "execution_count": 4,
   "id": "f63d7859",
   "metadata": {},
   "outputs": [],
   "source": [
    "lis.append(30)"
   ]
  },
  {
   "cell_type": "code",
   "execution_count": 5,
   "id": "43bfca0f",
   "metadata": {},
   "outputs": [
    {
     "name": "stdout",
     "output_type": "stream",
     "text": [
      "Help on built-in function insert:\n",
      "\n",
      "insert(index, object, /) method of builtins.list instance\n",
      "    Insert object before index.\n",
      "\n"
     ]
    }
   ],
   "source": [
    "help(lis.insert)"
   ]
  },
  {
   "cell_type": "code",
   "execution_count": 6,
   "id": "8f0693fa",
   "metadata": {},
   "outputs": [
    {
     "data": {
      "text/plain": [
       "[67, -90, True, 'NLP', 59, (34+7j), [12, -56, 'T&T'], 30]"
      ]
     },
     "execution_count": 6,
     "metadata": {},
     "output_type": "execute_result"
    }
   ],
   "source": [
    "lis.insert(4,59)\n",
    "lis"
   ]
  },
  {
   "cell_type": "code",
   "execution_count": 7,
   "id": "adf8cb95",
   "metadata": {},
   "outputs": [
    {
     "data": {
      "text/plain": [
       "[67, -90, True, 'NLP', 59, (34+7j), [12, -56, 30, 'T&T'], 30]"
      ]
     },
     "execution_count": 7,
     "metadata": {},
     "output_type": "execute_result"
    }
   ],
   "source": [
    "lis[-2].insert(2,30)\n",
    "lis"
   ]
  },
  {
   "cell_type": "code",
   "execution_count": 8,
   "id": "62d5f305",
   "metadata": {},
   "outputs": [
    {
     "data": {
      "text/plain": [
       "2"
      ]
     },
     "execution_count": 8,
     "metadata": {},
     "output_type": "execute_result"
    }
   ],
   "source": [
    "lis.index(True)"
   ]
  },
  {
   "cell_type": "code",
   "execution_count": 9,
   "id": "2909da8f",
   "metadata": {},
   "outputs": [
    {
     "data": {
      "text/plain": [
       "3"
      ]
     },
     "execution_count": 9,
     "metadata": {},
     "output_type": "execute_result"
    }
   ],
   "source": [
    "lis.index(\"NLP\")"
   ]
  },
  {
   "cell_type": "code",
   "execution_count": 10,
   "id": "572a8ace",
   "metadata": {},
   "outputs": [
    {
     "ename": "ValueError",
     "evalue": "'no' is not in list",
     "output_type": "error",
     "traceback": [
      "\u001b[1;31m---------------------------------------------------------------------------\u001b[0m",
      "\u001b[1;31mValueError\u001b[0m                                Traceback (most recent call last)",
      "\u001b[1;32m~\\AppData\\Local\\Temp\\ipykernel_25004\\2980293570.py\u001b[0m in \u001b[0;36m<module>\u001b[1;34m\u001b[0m\n\u001b[1;32m----> 1\u001b[1;33m \u001b[0mlis\u001b[0m\u001b[1;33m.\u001b[0m\u001b[0mindex\u001b[0m\u001b[1;33m(\u001b[0m\u001b[1;34m\"no\"\u001b[0m\u001b[1;33m)\u001b[0m\u001b[1;33m\u001b[0m\u001b[1;33m\u001b[0m\u001b[0m\n\u001b[0m",
      "\u001b[1;31mValueError\u001b[0m: 'no' is not in list"
     ]
    }
   ],
   "source": [
    "lis.index(\"no\")"
   ]
  },
  {
   "cell_type": "code",
   "execution_count": null,
   "id": "ad7755ac",
   "metadata": {},
   "outputs": [],
   "source": [
    "lit1=[23,67,5,8,23,23,8,90]\n",
    "lit1"
   ]
  },
  {
   "cell_type": "code",
   "execution_count": null,
   "id": "5e0e5a1f",
   "metadata": {},
   "outputs": [],
   "source": [
    "lit1.remove(23)\n",
    "lit1"
   ]
  },
  {
   "cell_type": "code",
   "execution_count": null,
   "id": "9f31c1f6",
   "metadata": {},
   "outputs": [],
   "source": [
    "while 23 in lit1:\n",
    "    lit1.remove(23)\n",
    "lit1"
   ]
  },
  {
   "cell_type": "code",
   "execution_count": null,
   "id": "0db102ac",
   "metadata": {},
   "outputs": [],
   "source": [
    "import math\n",
    "dir(math)"
   ]
  },
  {
   "cell_type": "code",
   "execution_count": null,
   "id": "777167c7",
   "metadata": {},
   "outputs": [],
   "source": [
    "help(math.sqrt)"
   ]
  },
  {
   "cell_type": "code",
   "execution_count": null,
   "id": "df5ff048",
   "metadata": {},
   "outputs": [],
   "source": [
    "x=input(\"Enter the number : \")\n",
    "x=int(x)\n",
    "print(math.sqrt(x))"
   ]
  },
  {
   "cell_type": "markdown",
   "id": "e224bc49",
   "metadata": {},
   "source": [
    "# 20/01/2023"
   ]
  },
  {
   "cell_type": "code",
   "execution_count": 11,
   "id": "d55b3a2a",
   "metadata": {},
   "outputs": [],
   "source": [
    "import nltk\n",
    "import nltk.tokenize"
   ]
  },
  {
   "cell_type": "code",
   "execution_count": 12,
   "id": "24daab41",
   "metadata": {},
   "outputs": [],
   "source": [
    "#Sentence Tokenization"
   ]
  },
  {
   "cell_type": "code",
   "execution_count": 13,
   "id": "9b394757",
   "metadata": {},
   "outputs": [],
   "source": [
    "from nltk.tokenize import sent_tokenize"
   ]
  },
  {
   "cell_type": "code",
   "execution_count": 14,
   "id": "08c32684",
   "metadata": {},
   "outputs": [
    {
     "data": {
      "text/plain": [
       "'I am a good boy. I study in KIIT. I love to read books.'"
      ]
     },
     "execution_count": 14,
     "metadata": {},
     "output_type": "execute_result"
    }
   ],
   "source": [
    "cor=\"I am a good boy. I study in KIIT. I love to read books.\"\n",
    "cor"
   ]
  },
  {
   "cell_type": "code",
   "execution_count": 18,
   "id": "5af3b607",
   "metadata": {},
   "outputs": [
    {
     "data": {
      "text/plain": [
       "['I am a good boy.', 'I study in KIIT.', 'I love to read books.']"
      ]
     },
     "execution_count": 18,
     "metadata": {},
     "output_type": "execute_result"
    }
   ],
   "source": [
    "sent=sent_tokenize(cor)\n",
    "sent"
   ]
  },
  {
   "cell_type": "code",
   "execution_count": 19,
   "id": "020cd735",
   "metadata": {},
   "outputs": [
    {
     "data": {
      "text/plain": [
       "3"
      ]
     },
     "execution_count": 19,
     "metadata": {},
     "output_type": "execute_result"
    }
   ],
   "source": [
    "len(sent)"
   ]
  },
  {
   "cell_type": "code",
   "execution_count": 20,
   "id": "35a1e601",
   "metadata": {},
   "outputs": [
    {
     "name": "stdout",
     "output_type": "stream",
     "text": [
      "['I am a good boy.', 'I study in KIIT.', 'I love to read books.']\n"
     ]
    }
   ],
   "source": [
    "print(sent)"
   ]
  },
  {
   "cell_type": "code",
   "execution_count": 21,
   "id": "db6eaf5e",
   "metadata": {},
   "outputs": [
    {
     "name": "stdout",
     "output_type": "stream",
     "text": [
      "I am a good boy.\n",
      "I study in KIIT.\n",
      "I love to read books.\n"
     ]
    }
   ],
   "source": [
    "for i in sent:\n",
    "    print(i)"
   ]
  },
  {
   "cell_type": "code",
   "execution_count": 22,
   "id": "9d660f6f",
   "metadata": {},
   "outputs": [],
   "source": [
    "from nltk.tokenize import word_tokenize"
   ]
  },
  {
   "cell_type": "code",
   "execution_count": 23,
   "id": "b245eaa9",
   "metadata": {},
   "outputs": [
    {
     "data": {
      "text/plain": [
       "['I', 'want', 'to', 'do', 'something', 'good', '.']"
      ]
     },
     "execution_count": 23,
     "metadata": {},
     "output_type": "execute_result"
    }
   ],
   "source": [
    "token=word_tokenize(\"I want to do something good.\")\n",
    "token"
   ]
  },
  {
   "cell_type": "code",
   "execution_count": 24,
   "id": "322a267b",
   "metadata": {},
   "outputs": [
    {
     "data": {
      "text/plain": [
       "7"
      ]
     },
     "execution_count": 24,
     "metadata": {},
     "output_type": "execute_result"
    }
   ],
   "source": [
    "len(token)"
   ]
  },
  {
   "cell_type": "code",
   "execution_count": 27,
   "id": "38814717",
   "metadata": {},
   "outputs": [],
   "source": [
    "#stemming using porterstrmmer\n",
    "from nltk.stem import PorterStemmer\n",
    "ps=PorterStemmer()"
   ]
  },
  {
   "cell_type": "code",
   "execution_count": 29,
   "id": "8b7e8d5e",
   "metadata": {},
   "outputs": [
    {
     "data": {
      "text/plain": [
       "'teach'"
      ]
     },
     "execution_count": 29,
     "metadata": {},
     "output_type": "execute_result"
    }
   ],
   "source": [
    "ps.stem('teaching')"
   ]
  },
  {
   "cell_type": "code",
   "execution_count": 31,
   "id": "b40c5786",
   "metadata": {},
   "outputs": [
    {
     "name": "stdout",
     "output_type": "stream",
     "text": [
      "i am a good boy.\n",
      "i study in kiit.\n",
      "i love to read books.\n"
     ]
    }
   ],
   "source": [
    "for s in sent:\n",
    "    print(ps.stem(s))"
   ]
  },
  {
   "cell_type": "code",
   "execution_count": 32,
   "id": "d9bf6846",
   "metadata": {},
   "outputs": [
    {
     "name": "stdout",
     "output_type": "stream",
     "text": [
      "i\n",
      "want\n",
      "to\n",
      "do\n",
      "someth\n",
      "good\n",
      ".\n"
     ]
    }
   ],
   "source": [
    "for s in token:\n",
    "    print(ps.stem(s))"
   ]
  },
  {
   "cell_type": "code",
   "execution_count": 33,
   "id": "66ae8d68",
   "metadata": {},
   "outputs": [
    {
     "name": "stdout",
     "output_type": "stream",
     "text": [
      "i\n",
      "realli\n",
      "like\n",
      "the\n",
      "movi\n",
      "veri\n",
      "much\n"
     ]
    }
   ],
   "source": [
    "for i in word_tokenize(\"I really liked the movie very much\"):\n",
    "    print(ps.stem(i))"
   ]
  },
  {
   "cell_type": "code",
   "execution_count": 34,
   "id": "cd08217f",
   "metadata": {},
   "outputs": [],
   "source": [
    "#LancasterStemmer"
   ]
  },
  {
   "cell_type": "code",
   "execution_count": 35,
   "id": "5216c7ac",
   "metadata": {},
   "outputs": [],
   "source": [
    "from nltk.stem import LancasterStemmer"
   ]
  },
  {
   "cell_type": "code",
   "execution_count": 36,
   "id": "12e3528d",
   "metadata": {},
   "outputs": [],
   "source": [
    "ls=LancasterStemmer()"
   ]
  },
  {
   "cell_type": "code",
   "execution_count": 38,
   "id": "aee14680",
   "metadata": {},
   "outputs": [
    {
     "name": "stdout",
     "output_type": "stream",
     "text": [
      "i\n",
      "real\n",
      "lik\n",
      "the\n",
      "movy\n",
      "very\n",
      "much\n"
     ]
    }
   ],
   "source": [
    "for i in word_tokenize(\"I really liked the movie very much\"):\n",
    "    print(ls.stem(i))"
   ]
  },
  {
   "cell_type": "code",
   "execution_count": null,
   "id": "1aed2707",
   "metadata": {},
   "outputs": [],
   "source": []
  }
 ],
 "metadata": {
  "kernelspec": {
   "display_name": "Python 3 (ipykernel)",
   "language": "python",
   "name": "python3"
  },
  "language_info": {
   "codemirror_mode": {
    "name": "ipython",
    "version": 3
   },
   "file_extension": ".py",
   "mimetype": "text/x-python",
   "name": "python",
   "nbconvert_exporter": "python",
   "pygments_lexer": "ipython3",
   "version": "3.9.15"
  }
 },
 "nbformat": 4,
 "nbformat_minor": 5
}
