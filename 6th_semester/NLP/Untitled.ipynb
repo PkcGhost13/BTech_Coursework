{
 "cells": [
  {
   "cell_type": "code",
   "execution_count": null,
   "id": "b73590f7",
   "metadata": {},
   "outputs": [],
   "source": [
    "import pandas as pd\n",
    "from sklearn.feature_extraction.text import CountVectorizer\n",
    "from sklearn.naive_bayes import MultinomialNB\n",
    "from sklearn.metrics import accuracy_score\n",
    "\n",
    "# Load the dataset\n",
    "data = pd.read_csv(\"spam.csv\",encoding='latin-1')\n",
    "# Preprocess the data\n",
    "data.drop(columns=['Unnamed: 2', 'Unnamed: 3', 'Unnamed: 4'], inplace=True)\n",
    "data.rename(columns={\"v1\":\"target\",\"v2\":\"text\"}, inplace=True)\n",
    "# Split the dataset into training and testing sets\n",
    "\n",
    "train_data = data.sample(frac=0.8, random_state=1)\n",
    "test_data = data.drop(train_data.index)\n",
    "\n",
    "vectorizer = CountVectorizer()\n",
    "train_features = vectorizer.fit_transform(train_data['text'])\n",
    "test_features = vectorizer.transform(test_data['text'])\n",
    "print(train_features)\n",
    "\n",
    "# Train the model\n",
    "\n",
    "model = MultinomialNB()\n",
    "model.fit(train_features, train_data['target'])\n",
    "\n",
    "# Test the model\n",
    "\n",
    "predictions = model.predict(test_features)\n",
    "accuracy = accuracy_score(test_data['target'], predictions)\n",
    "print(\"Accuracy:\", accuracy)"
   ]
  }
 ],
 "metadata": {
  "kernelspec": {
   "display_name": "Python 3 (ipykernel)",
   "language": "python",
   "name": "python3"
  },
  "language_info": {
   "codemirror_mode": {
    "name": "ipython",
    "version": 3
   },
   "file_extension": ".py",
   "mimetype": "text/x-python",
   "name": "python",
   "nbconvert_exporter": "python",
   "pygments_lexer": "ipython3",
   "version": "3.9.16"
  }
 },
 "nbformat": 4,
 "nbformat_minor": 5
}
