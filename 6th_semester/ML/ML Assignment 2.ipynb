{
 "cells": [
  {
   "cell_type": "markdown",
   "id": "c22fa967",
   "metadata": {},
   "source": [
    "# <center> Machine Learning Assignment 2 <br><br>Pawan Kumar Chatterjee <br><br> 20051478 </center>"
   ]
  },
  {
   "cell_type": "markdown",
   "id": "d17d576c",
   "metadata": {},
   "source": [
    "# Simple Linear Regression:"
   ]
  },
  {
   "cell_type": "markdown",
   "id": "c3f4c87c",
   "metadata": {},
   "source": [
    "#### Implementation of simple linear regression without directly using library function"
   ]
  },
  {
   "cell_type": "markdown",
   "id": "75605ff1",
   "metadata": {},
   "source": [
    "## Implementation:"
   ]
  },
  {
   "cell_type": "code",
   "execution_count": 1,
   "id": "60cd04ea",
   "metadata": {},
   "outputs": [],
   "source": [
    "import numpy as np\n",
    "\n",
    "class SimpleLinearRegression:\n",
    "    # Initialize the class with two attributes: slope and intercept\n",
    "    def __init__(self):\n",
    "        self.slope = None\n",
    "        self.intercept = None\n",
    "\n",
    "    \"\"\"Fit a linear regression model to the input \n",
    "    features (X) and target outputs (y)\"\"\"\n",
    "    def fit(self, X, y):\n",
    "        # Calculate the mean of x and y\n",
    "        mean_x = sum(x) / len(x)\n",
    "        mean_y = sum(y) / len(y)\n",
    "        numerator = sum([(xi - mean_x) * (yi - mean_y) for xi, yi in zip(x, y)])\n",
    "        denominator = sum([(xi - mean_x) ** 2 for xi in x])\n",
    "        \"\"\" Calculate the slope of the regression line using\n",
    "        the formula for simple linear regression \"\"\"\n",
    "        self.slope = numerator / denominator\n",
    "        \"\"\"Calculate the intercept of the regression line using the \n",
    "        formula for simple linear regression\"\"\"\n",
    "        self.intercept = mean_y - self.slope * mean_x\n",
    "\n",
    "    # Predict target output values based on a set of input features\n",
    "    def predict(self, X):\n",
    "        \"\"\"Use the slope and intercept attributes \n",
    "        to calculate predicted output values\"\"\"\n",
    "        return self.intercept + self.slope * X\n"
   ]
  },
  {
   "cell_type": "markdown",
   "id": "fb915792",
   "metadata": {},
   "source": [
    "## Application:"
   ]
  },
  {
   "cell_type": "code",
   "execution_count": 2,
   "id": "5886b1d8",
   "metadata": {},
   "outputs": [
    {
     "name": "stdout",
     "output_type": "stream",
     "text": [
      "Slope:  -0.7352941176470589\n",
      "Intercept:  8.076470588235296\n",
      "Predicted y for x = 6:  3.6647058823529424\n"
     ]
    }
   ],
   "source": [
    "import numpy as np\n",
    "\n",
    "# Define the independent variable (x) and dependent variable (y) arrays\n",
    "#x = np.array([1, 2, 3, 4, 5]).reshape((-1, 1))\n",
    "x = np.array([7,4,3,9,2]).reshape((-1, 1))\n",
    "#y = np.array([2, 4, 5, 4, 5])\n",
    "y = np.array([1,4,7,3,7])\n",
    "\n",
    "# Create a linear regression object and fit the data\n",
    "model = SimpleLinearRegression()\n",
    "model.fit(x, y)\n",
    "\n",
    "# Predict the values of y for a new set of x values\n",
    "x_new = np.array([6]).reshape((-1, 1))\n",
    "y_new = model.predict(x_new)\n",
    "\n",
    "# Print the slope and intercept of the regression line\n",
    "print('Slope: ', model.slope[0])\n",
    "print('Intercept: ', model.intercept[0])\n",
    "\n",
    "# Print the predicted value of y for the new x value\n",
    "print('Predicted y for x = 6: ', y_new[0][0])\n"
   ]
  },
  {
   "cell_type": "markdown",
   "id": "73c2b696",
   "metadata": {},
   "source": [
    "# Multiple Linear Regression:"
   ]
  },
  {
   "cell_type": "markdown",
   "id": "97e75bce",
   "metadata": {},
   "source": [
    "#### Implementation of multiple linear regression without directly using library function"
   ]
  },
  {
   "cell_type": "markdown",
   "id": "9e826c70",
   "metadata": {},
   "source": [
    "## Implementation:"
   ]
  },
  {
   "cell_type": "code",
   "execution_count": 31,
   "id": "258a54bc",
   "metadata": {},
   "outputs": [],
   "source": [
    "import numpy as np\n",
    "\n",
    "class LinearRegression:\n",
    "    def __init__(self):\n",
    "        pass\n",
    "\n",
    "    def __compute(self, x, y):\n",
    "        \"\"\"\n",
    "        Compute the parameters of the linear regression model using the least squares method.\n",
    "        \n",
    "        Args:\n",
    "        x: A matrix of input features.\n",
    "        y: A vector of target values.\n",
    "        \n",
    "        Returns:\n",
    "        None\n",
    "        \"\"\"\n",
    "        try:\n",
    "            self.__thetas = np.dot(np.dot(np.linalg.inv(np.dot(x.T,x)),x.T),y)\n",
    "        except Exception as e:\n",
    "            # Raise the original exception if the computation fails.\n",
    "            raise e\n",
    "            \n",
    "    def fit(self, x, y):\n",
    "        \"\"\"\n",
    "        Fit the linear regression model to the input features and target values.\n",
    "        \n",
    "        Args:\n",
    "        x: A matrix of input features.\n",
    "        y: A vector of target values.\n",
    "        \n",
    "        Returns:\n",
    "        None\n",
    "        \"\"\"\n",
    "        x = np.array(x)\n",
    "        # Add a column of ones for the intercept term.\n",
    "        ones_ = np.ones(x.shape[0])\n",
    "        x = np.c_[ones_,x]\n",
    "        y = np.array(y)\n",
    "        self.__compute(x,y)\n",
    "    \n",
    "    @property\n",
    "    def coef_(self):\n",
    "        \"\"\"\n",
    "        Return the coefficients of the linear regression model.\n",
    "        \"\"\"\n",
    "        return self.__thetas[1:]\n",
    "    \n",
    "    @property\n",
    "    def intercept_(self):\n",
    "        \"\"\"\n",
    "        Return the intercept of the linear regression model.\n",
    "        \"\"\"\n",
    "        return self.__thetas[0]\n",
    "\n",
    "    def predict(self, x):\n",
    "        \"\"\"\n",
    "        Predict the target values for the input features using the linear regression model.\n",
    "        \n",
    "        Args:\n",
    "        x: A matrix of input features.\n",
    "        \n",
    "        Returns:\n",
    "        A vector of predicted target values.\n",
    "        \"\"\"\n",
    "        try:\n",
    "            x = np.array(x)\n",
    "            # Add a column of ones for the intercept term.\n",
    "            ones_ = np.ones(x.shape[0])\n",
    "            x = np.c_[ones_,x]\n",
    "            result = np.dot(x,self.__thetas)\n",
    "            return result            \n",
    "        except Exception as e:\n",
    "            # Raise the original exception if the computation fails.\n",
    "            raise e\n"
   ]
  },
  {
   "cell_type": "markdown",
   "id": "0b5cd42d",
   "metadata": {},
   "source": [
    "## Application:"
   ]
  },
  {
   "cell_type": "code",
   "execution_count": 37,
   "id": "7bd39d6c",
   "metadata": {},
   "outputs": [
    {
     "name": "stdout",
     "output_type": "stream",
     "text": [
      "Slope:  12.00000000000125\n",
      "Intercept:  [1.2 4.5]\n",
      "Predicted y for x = [12,32] and [2,40] :  [170.4 194.4]\n"
     ]
    }
   ],
   "source": [
    "# datasets\n",
    "x_train = np.array([[2,40],[5,15],[8,19],[7,25],[9,16]])\n",
    "y_train = np.array([194.4, 85.5, 107.1, 132.9, 94.8])\n",
    "x_test = np.array([[12,32],[2,40]])\n",
    "y_test = np.array([])\n",
    "\n",
    "# testing the model...\n",
    "lr = LinearRegression()\n",
    "lr.fit(x_train,y_train)\n",
    "y_test = np.array(lr.predict(x_test))\n",
    "\n",
    "# Print the slope and intercept of the regression line\n",
    "print('Slope: ', lr.coef_)\n",
    "print('Intercept: ', lr.intercept_)\n",
    "\n",
    "# Print the predicted value of y for the new x value\n",
    "print('Predicted y for x = [12,32] and [2,40] : ', y_test)"
   ]
  }
 ],
 "metadata": {
  "kernelspec": {
   "display_name": "Python 3 (ipykernel)",
   "language": "python",
   "name": "python3"
  },
  "language_info": {
   "codemirror_mode": {
    "name": "ipython",
    "version": 3
   },
   "file_extension": ".py",
   "mimetype": "text/x-python",
   "name": "python",
   "nbconvert_exporter": "python",
   "pygments_lexer": "ipython3",
   "version": "3.9.16"
  }
 },
 "nbformat": 4,
 "nbformat_minor": 5
}
